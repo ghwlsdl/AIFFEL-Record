{
 "cells": [
  {
   "cell_type": "markdown",
   "id": "surprising-hometown",
   "metadata": {},
   "source": [
    "미니배치, 이터레이션, 에포크 참조  \n",
    "https://wikidocs.net/55580"
   ]
  },
  {
   "cell_type": "code",
   "execution_count": 1,
   "id": "laughing-spirit",
   "metadata": {},
   "outputs": [],
   "source": [
    "import torch\n",
    "import torch.nn as nn\n",
    "import torch.nn.functional as F\n",
    "import torch.optim as optim\n",
    "import numpy as np\n",
    "\n",
    "from torch.utils.data import DataLoader # 데이터로더\n",
    "from torch.utils.data import Dataset"
   ]
  },
  {
   "cell_type": "code",
   "execution_count": 2,
   "id": "intellectual-quest",
   "metadata": {},
   "outputs": [],
   "source": [
    "xy = np.loadtxt('./data/diabetes.csv.gz', delimiter=',', dtype=np.float32)"
   ]
  },
  {
   "cell_type": "code",
   "execution_count": 4,
   "id": "southwest-raleigh",
   "metadata": {},
   "outputs": [
    {
     "name": "stdout",
     "output_type": "stream",
     "text": [
      "[[-0.294118   0.487437   0.180328  ... -0.53117   -0.0333333  0.       ]\n",
      " [-0.882353  -0.145729   0.0819672 ... -0.766866  -0.666667   1.       ]\n",
      " [-0.0588235  0.839196   0.0491803 ... -0.492741  -0.633333   0.       ]\n",
      " ...\n",
      " [-0.411765   0.21608    0.180328  ... -0.857387  -0.7        1.       ]\n",
      " [-0.882353   0.266332  -0.0163934 ... -0.768574  -0.133333   0.       ]\n",
      " [-0.882353  -0.0653266  0.147541  ... -0.797609  -0.933333   1.       ]]\n",
      "(759, 9)\n"
     ]
    }
   ],
   "source": [
    "print(xy)\n",
    "print(xy.shape)"
   ]
  },
  {
   "cell_type": "code",
   "execution_count": 7,
   "id": "psychological-brother",
   "metadata": {},
   "outputs": [],
   "source": [
    "class DiabetesDataset(Dataset):\n",
    "    \n",
    "    def __init__(self, xy_dataset):\n",
    "        # 커스텀 데이터셋 클래스의 생성자를 정의\n",
    "        # 데이터를 불러와서 torch.tensor로 할당 및 전처리한다.\n",
    "        self.x_data = torch.from_numpy(xy_dataset[:, 0:-1])\n",
    "        self.y_data = torch.from_numpy(xy_dataset[:, [-1]])\n",
    "        print(f'X shape : {self.x_data.shape} | Y shape :{self.y_data.shape}')\n",
    "        \n",
    "    # 매직 메소드 : 함수 이름 앞, 뒤로 underbar 2개를 붙인 메소드\n",
    "    def __len__(self):\n",
    "        return len(self.x_data)\n",
    "    \n",
    "    def __getitem__(self, idx):\n",
    "        # 데이터셋에서 해당 인덱스에 해당하는 샘플 (x, y)를 가져오는 메소드\n",
    "        return self.x_data[idx], self.y_data[idx]"
   ]
  },
  {
   "cell_type": "code",
   "execution_count": 9,
   "id": "appointed-california",
   "metadata": {},
   "outputs": [
    {
     "name": "stdout",
     "output_type": "stream",
     "text": [
      "X shape : torch.Size([759, 8]) | Y shape :torch.Size([759, 1])\n"
     ]
    }
   ],
   "source": [
    "# 구현한 커스텀 데이터셋 클래스의 인스턴스 생성\n",
    "dataset = DiabetesDataset(xy)\n",
    "\n",
    "# DataLoader 모듈 : 데이터셋과 배치 사이즈를 입력받아서 인스턴스를 생성. 학습할 때 미니배치를 구성해준다.\n",
    "data_loader = DataLoader(dataset, batch_size=100)"
   ]
  },
  {
   "cell_type": "markdown",
   "id": "essential-publisher",
   "metadata": {},
   "source": [
    "## 퀴즈 (Easy)  \n",
    "1) 당뇨병 데이터셋에 대해서 로지스틱 회귀 모델을 구현한다면 첫번째 레이어의 노드 수는 몇개가 되어야 할까요??   \n",
    "2) data_loader에서 샘플들을 가져온다면 샘플들의 전체 모양은 어떻게 될까요?  "
   ]
  },
  {
   "cell_type": "markdown",
   "id": "express-emission",
   "metadata": {},
   "source": [
    "A1. 8개  \n",
    "A2. (batch_size, 8) = (100, 8)"
   ]
  },
  {
   "cell_type": "markdown",
   "id": "developing-throat",
   "metadata": {},
   "source": [
    "## 퀴즈 (Normal)  \n",
    "이전의 노트북 파일을 참고해서 LogisticRegressionModel 클래스를 구현하세요.  \n",
    "1) 생성자 :  \n",
    "모델의 은닉층 수는 3층이고 은닉층마다 (8, 6, 4) 개의 뉴런을 가집니다.  \n",
    "마지막 레이어에는 시그모이드 모듈을 이용해 예측값을 계산하도록 만드세요.  \n",
    "2) forward :   \n",
    "최종적으로 확률 값을 예측하도록 레이어를 쌓아서 y를 반환하세요.  "
   ]
  },
  {
   "cell_type": "code",
   "execution_count": 23,
   "id": "possible-cooking",
   "metadata": {},
   "outputs": [],
   "source": [
    "class LogisticRegressionModel(nn.Module):\n",
    "    def __init__(self):\n",
    "        super(LogisticRegressionModel, self).__init__()\n",
    "        self.layer1 = nn.Linear(8, 6)\n",
    "        self.layer2 = nn.Linear(6, 4)\n",
    "        self.layer3 = nn.Linear(4, 1)\n",
    "        self.sigmoid = nn.Sigmoid()\n",
    "        \n",
    "        \n",
    "    def forward(self, x):\n",
    "        x = self.sigmoid(self.layer1(x))\n",
    "        x = self.sigmoid(self.layer2(x))\n",
    "        x = self.sigmoid(self.layer3(x))\n",
    "        y_pred = self.sigmoid(x)\n",
    "        return y_pred"
   ]
  },
  {
   "cell_type": "markdown",
   "id": "unauthorized-mixture",
   "metadata": {},
   "source": [
    "## 퀴즈 (Normal)  \n",
    "1) 위 모델을 학습시키기 위해서는 어떤 손실함수를 선택해야할까요??  \n",
    "2) 위의 로지스틱회귀 클래스 모델을 조금 더 메모리 효율적으로 구현하려면 어떻게 해야할까요?  \n",
    "3) 위의 로지스틱 회귀 모델을 공책에 그려봅시다. "
   ]
  },
  {
   "cell_type": "code",
   "execution_count": 24,
   "id": "balanced-lying",
   "metadata": {},
   "outputs": [],
   "source": [
    "model = LogisticRegressionModel()\n",
    "bce_loss = nn.BCELoss(reduction='mean')\n",
    "lr = 0.001\n",
    "optimizer = optim.Adam(model.parameters(), lr)"
   ]
  },
  {
   "cell_type": "code",
   "execution_count": 25,
   "id": "southwest-situation",
   "metadata": {},
   "outputs": [],
   "source": [
    "list1 = [1, 2, 3, 4, ]"
   ]
  },
  {
   "cell_type": "code",
   "execution_count": null,
   "id": "aggregate-profession",
   "metadata": {},
   "outputs": [],
   "source": []
  },
  {
   "cell_type": "code",
   "execution_count": 26,
   "id": "conscious-learning",
   "metadata": {},
   "outputs": [
    {
     "ename": "NameError",
     "evalue": "name 'epoch' is not defined",
     "output_type": "error",
     "traceback": [
      "\u001b[0;31m---------------------------------------------------------------------------\u001b[0m",
      "\u001b[0;31mNameError\u001b[0m                                 Traceback (most recent call last)",
      "\u001b[0;32m<ipython-input-26-ea1cffda712d>\u001b[0m in \u001b[0;36m<module>\u001b[0;34m\u001b[0m\n\u001b[1;32m      1\u001b[0m print(f'Epoch: {epoch+1:4d}/{epochs} Batch {batch_idx+1:4d}/{len(data_loader)} \\\n\u001b[0;32m----> 2\u001b[0;31m                 Loss: {loss.item():4f}')\n\u001b[0m",
      "\u001b[0;31mNameError\u001b[0m: name 'epoch' is not defined"
     ]
    }
   ],
   "source": [
    "\n",
    "\n",
    "print(f'Epoch: {epoch+1:4d}/{epochs} Batch {batch_idx+1:4d}/{len(data_loader)} \\\n",
    "                Loss: {loss.item():4f}')"
   ]
  },
  {
   "cell_type": "markdown",
   "id": "conservative-fortune",
   "metadata": {},
   "source": [
    "## Dataloader를 활용한 학습  "
   ]
  },
  {
   "cell_type": "markdown",
   "id": "continuing-simulation",
   "metadata": {},
   "source": [
    "## 퀴즈 (Easy)  \n",
    "위 학습 반복문에서 enumerate를 사용했습니다. 그 이유가 무엇일까요?  "
   ]
  }
 ],
 "metadata": {
  "kernelspec": {
   "display_name": "Python 3",
   "language": "python",
   "name": "python3"
  },
  "language_info": {
   "codemirror_mode": {
    "name": "ipython",
    "version": 3
   },
   "file_extension": ".py",
   "mimetype": "text/x-python",
   "name": "python",
   "nbconvert_exporter": "python",
   "pygments_lexer": "ipython3",
   "version": "3.7.9"
  }
 },
 "nbformat": 4,
 "nbformat_minor": 5
}
