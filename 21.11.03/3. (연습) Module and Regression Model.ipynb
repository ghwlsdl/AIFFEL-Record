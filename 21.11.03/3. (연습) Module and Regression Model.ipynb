{
 "cells": [
  {
   "cell_type": "markdown",
   "id": "cutting-ballet",
   "metadata": {},
   "source": [
    "# 딥러닝 프레임워크에서 구현 흐름"
   ]
  },
  {
   "cell_type": "markdown",
   "id": "authorized-wales",
   "metadata": {},
   "source": [
    "1. 데이터 전처리, ** 중요 딥러닝 모델의 입력 shape 와 출력 shape를 확인\n",
    "2. 데이터셋 클래스 작성\n",
    "3. 데이터셋 인스턴스를 활용해서 데이터 로더 할당\n",
    "4. 딥러닝 모델 작성\n",
    "5. 순전파 함수를 정의\n",
    "6. 손실함수 정의\n",
    "7. 최적화 기법 설정\n",
    "8. 하이퍼 파라미터를 설정\n",
    "9. 학습, 검정 시행\n",
    "10. 테스트 데이터로 추론"
   ]
  },
  {
   "cell_type": "markdown",
   "id": "crucial-classroom",
   "metadata": {},
   "source": [
    "## 3.1 선형회귀"
   ]
  },
  {
   "cell_type": "code",
   "execution_count": 87,
   "id": "dense-grocery",
   "metadata": {},
   "outputs": [],
   "source": [
    "import torch\n",
    "import torch.nn as nn # nn 모듈에는 뉴럴 네트워크를 구성하기 위해 필요한 모든 요소가 구현되어 있다. ex) Linear, Conv, RNN, 활성화함수 등\n",
    "import torch.nn.functional as F\n",
    "import torch.optim as optim\n",
    "import torch.nn.init as init"
   ]
  },
  {
   "cell_type": "code",
   "execution_count": 88,
   "id": "homeless-petroleum",
   "metadata": {},
   "outputs": [],
   "source": [
    "device = torch.device(\"cuda:0\")"
   ]
  },
  {
   "cell_type": "markdown",
   "id": "sophisticated-thirty",
   "metadata": {},
   "source": [
    "## 옵티마이저"
   ]
  },
  {
   "cell_type": "code",
   "execution_count": 2,
   "id": "respective-spell",
   "metadata": {},
   "outputs": [
    {
     "ename": "NameError",
     "evalue": "name 'model' is not defined",
     "output_type": "error",
     "traceback": [
      "\u001b[0;31m---------------------------------------------------------------------------\u001b[0m",
      "\u001b[0;31mNameError\u001b[0m                                 Traceback (most recent call last)",
      "\u001b[0;32m<ipython-input-2-54f52b2bdb93>\u001b[0m in \u001b[0;36m<module>\u001b[0;34m\u001b[0m\n\u001b[0;32m----> 1\u001b[0;31m \u001b[0moptimizer\u001b[0m \u001b[0;34m=\u001b[0m \u001b[0moptim\u001b[0m\u001b[0;34m.\u001b[0m\u001b[0mSGD\u001b[0m\u001b[0;34m(\u001b[0m\u001b[0mmodel\u001b[0m\u001b[0;34m.\u001b[0m\u001b[0mparameters\u001b[0m\u001b[0;34m(\u001b[0m\u001b[0;34m)\u001b[0m\u001b[0;34m,\u001b[0m \u001b[0mlr\u001b[0m\u001b[0;34m=\u001b[0m\u001b[0mlearning_rate\u001b[0m\u001b[0;34m)\u001b[0m\u001b[0;34m\u001b[0m\u001b[0;34m\u001b[0m\u001b[0m\n\u001b[0m\u001b[1;32m      2\u001b[0m \u001b[0moptimizer\u001b[0m \u001b[0;34m=\u001b[0m \u001b[0moptim\u001b[0m\u001b[0;34m.\u001b[0m\u001b[0mAdam\u001b[0m\u001b[0;34m(\u001b[0m\u001b[0mmodel\u001b[0m\u001b[0;34m.\u001b[0m\u001b[0mparameters\u001b[0m\u001b[0;34m(\u001b[0m\u001b[0;34m)\u001b[0m\u001b[0;34m,\u001b[0m \u001b[0mlr\u001b[0m\u001b[0;34m=\u001b[0m\u001b[0mlearing_rate\u001b[0m\u001b[0;34m)\u001b[0m\u001b[0;34m\u001b[0m\u001b[0;34m\u001b[0m\u001b[0m\n\u001b[1;32m      3\u001b[0m \u001b[0;34m\u001b[0m\u001b[0m\n\u001b[1;32m      4\u001b[0m \u001b[0;31m# optimizer를 설정하기 위해서는 모델의 파라미터와 러닝레이트가 필요하다.\u001b[0m\u001b[0;34m\u001b[0m\u001b[0;34m\u001b[0m\u001b[0;34m\u001b[0m\u001b[0m\n",
      "\u001b[0;31mNameError\u001b[0m: name 'model' is not defined"
     ]
    }
   ],
   "source": [
    "optimizer = optim.SGD(linear_model.parameters(), lr=0.001)\n",
    "optimizer = optim.Adam(linear_model.parameters(), lr=0.001)\n",
    "\n",
    "# optimizer를 설정하기 위해서는 모델의 파라미터와 러닝레이트가 필요하다."
   ]
  },
  {
   "cell_type": "markdown",
   "id": "confirmed-prison",
   "metadata": {},
   "source": [
    "## 손실함수"
   ]
  },
  {
   "cell_type": "code",
   "execution_count": 89,
   "id": "terminal-filename",
   "metadata": {},
   "outputs": [],
   "source": [
    "# 손실함수를 정의\n",
    "bce_loss = nn.BCELoss()\n",
    "ce_loss = nn.CrossEntropyLoss()\n",
    "mse_loss = nn.MSELoss()"
   ]
  },
  {
   "cell_type": "code",
   "execution_count": 90,
   "id": "proud-hepatitis",
   "metadata": {},
   "outputs": [
    {
     "name": "stdout",
     "output_type": "stream",
     "text": [
      "tensor(0.0600)\n"
     ]
    }
   ],
   "source": [
    "# 모델이 있고 예측값이 나왔다고 가정.\n",
    "y_hat = torch.tensor([1.1, 2.4, 3.1]) # 예측값\n",
    "y_target = torch.tensor([1, 2, 3]) # 타겟값 (정답값)\n",
    "loss1 = mse_loss(y_hat, y_target)\n",
    "print(loss1)"
   ]
  },
  {
   "cell_type": "code",
   "execution_count": 91,
   "id": "collaborative-switzerland",
   "metadata": {},
   "outputs": [
    {
     "name": "stdout",
     "output_type": "stream",
     "text": [
      "tensor(2.4004)\n"
     ]
    }
   ],
   "source": [
    "# cross entropy\n",
    "torch.manual_seed(1)\n",
    "output = torch.rand([2, 10]) # 2x10 행렬을 생성합니다. 2는 데이터의 수, 10은 클래스의 수\n",
    "target = torch.LongTensor([1, 9]) # 1과 9는 실제 할당\n",
    "loss2 = ce_loss(output, target)\n",
    "print(loss2)"
   ]
  },
  {
   "cell_type": "code",
   "execution_count": 92,
   "id": "mysterious-internship",
   "metadata": {},
   "outputs": [
    {
     "name": "stdout",
     "output_type": "stream",
     "text": [
      "tensor([0.7576, 0.2793, 0.4031])\n",
      "tensor([0.6808, 0.5694, 0.5994])\n",
      "tensor([0., 1., 1.])\n",
      "tensor(0.7390)\n"
     ]
    }
   ],
   "source": [
    "# binary cross entropy\n",
    "torch.manual_seed(1) \n",
    "sigmoid = nn.Sigmoid()\n",
    "input_ = torch.rand(3) # torch 로 행렬의 렬 크기를 말해줍니다.\n",
    "y_pred = sigmoid(input_)\n",
    "target = torch.empty(3).random_(2) # rand() 안에 있는 수와 empty() 수가 일치 해야합니다. random() 인에 들어가는 숫자로 미만으로 타겟 값이 나옴을 확인 할 수 있습니다. \n",
    "\n",
    "loss1 = bce_loss(sigmoid(input_), target)\n",
    "print(input_)\n",
    "print(y_pred)\n",
    "print(target)\n",
    "print(loss1)"
   ]
  },
  {
   "cell_type": "markdown",
   "id": "awful-geography",
   "metadata": {},
   "source": [
    "## 선형회귀"
   ]
  },
  {
   "cell_type": "code",
   "execution_count": 93,
   "id": "leading-traveler",
   "metadata": {},
   "outputs": [],
   "source": [
    "# nn 모듈에는 딥러닝 머신러닝 모델을 구축하기 위해 필요한 모든 요소가 구현되어 있다.\n",
    "# 우리는 이것들을 잘 갖다 쓰기만 하면 된다.\n",
    "\n",
    "# y = wx + b\n",
    "linear_model = nn.Linear(1,1) # 첫번째 인자 : 입력의 차원, 두번째 인자 : 출력의 차원"
   ]
  },
  {
   "cell_type": "code",
   "execution_count": 94,
   "id": "excessive-sphere",
   "metadata": {},
   "outputs": [],
   "source": [
    "# 선형회귀 데이터 생성\n",
    "num_data = 1000\n",
    "# a= torch.Tensor(10, 2) # 대문자 텐서는 모양을 입력 받음\n",
    "# print(a)\n",
    "\n",
    "# torch.init\n",
    "# init 모듈은 가중치나 텐서 데이터들의 분포를 초기화할 때 사용합니다.\n",
    "x = init.uniform_(torch.Tensor(num_data, 1), -10, 10) # 첫번째 인자 : 텐서 shape, 두번째, 세번째 : 범위\n",
    "noise = init. normal_(torch.FloatTensor(num_data, 1), std=1)\n",
    "y = 2*x + 3 # 실제 모델.\n",
    "y_noise = y + noise\n",
    "\n",
    "optimizer = optim.SGD(linear_model.parameters(), lr=0.001)"
   ]
  },
  {
   "cell_type": "code",
   "execution_count": 95,
   "id": "personalized-forwarding",
   "metadata": {},
   "outputs": [
    {
     "data": {
      "image/png": "[encoded data removed]",
      "text/plain": [
       "<Figure size 432x288 with 1 Axes>"
      ]
     },
     "metadata": {
      "needs_background": "light"
     },
     "output_type": "display_data"
    },
    {
     "data": {
      "image/png": "[encoded data removed]",
      "text/plain": [
       "<Figure size 432x288 with 1 Axes>"
      ]
     },
     "metadata": {
      "needs_background": "light"
     },
     "output_type": "display_data"
    }
   ],
   "source": [
    "# (해창님 코드) 선형회귀 데이터 생성\n",
    "num_data = 100\n",
    "\n",
    "# torch.init_num_threads\n",
    "# init 모듈은 가중치나 텐서 데이터들의 분포를 초기화할 때 사용합니다.\n",
    "x = init.uniform_(torch.Tensor(num_data,1), -10,10) # 첫번째 인자 : 텐서 shape, 두번째, 세번째: 범위\n",
    "noise = init.normal_(torch.FloatTensor(num_data,1),std=2)\n",
    "y = 2*x +3\n",
    "y_noise = y+noise\n",
    "\n",
    "optimaizer = optim.SGD(linear_model.parameters(), lr=0.001)\n",
    "import matplotlib.pyplot as plt\n",
    "plt.scatter(x,y)\n",
    "plt.show()\n",
    "plt.scatter(x,y_noise)\n",
    "plt.show()"
   ]
  },
  {
   "cell_type": "code",
   "execution_count": 96,
   "id": "competitive-capacity",
   "metadata": {},
   "outputs": [
    {
     "name": "stdout",
     "output_type": "stream",
     "text": [
      "Parameter containing:\n",
      "tensor([[-0.2057]], requires_grad=True)\n",
      "Parameter containing:\n",
      "tensor([0.5087], requires_grad=True)\n",
      "None\n",
      "None\n"
     ]
    }
   ],
   "source": [
    "print(linear_model.weight)\n",
    "print(linear_model.bias)\n",
    "print(linear_model.weight.grad)\n",
    "print(linear_model.bias.grad)"
   ]
  },
  {
   "cell_type": "markdown",
   "id": "classified-medline",
   "metadata": {},
   "source": [
    "# 지도 학습 모델의 학습 순서"
   ]
  },
  {
   "cell_type": "markdown",
   "id": "organic-touch",
   "metadata": {},
   "source": [
    "1) 옵티마이저의 그레디언트를 0으로 만든다.  \n",
    "2) 데이터를 모델에 넣어서 값을 예측한다.  \n",
    "3) 정답 데이터와 에측값을 통해 손실함수를 계산한다.  \n",
    "4) 자동미분함수인. nackward()를 이용해 그래디언트를 계산한다.  \n",
    "5) 옵티마이저의 step() 함수를 호출한다."
   ]
  },
  {
   "cell_type": "code",
   "execution_count": 97,
   "id": "existing-biodiversity",
   "metadata": {},
   "outputs": [
    {
     "name": "stdout",
     "output_type": "stream",
     "text": [
      "tensor(197.7771)\n",
      "tensor(48.4193)\n",
      "tensor(17.2477)\n",
      "tensor(10.6075)\n",
      "tensor(9.0645)\n",
      "tensor(8.5856)\n",
      "tensor(8.3338)\n",
      "tensor(8.1350)\n",
      "tensor(7.9531)\n",
      "tensor(7.7801)\n",
      "tensor(7.6143)\n",
      "tensor(7.4551)\n",
      "tensor(7.3022)\n",
      "tensor(7.1552)\n",
      "tensor(7.0141)\n",
      "tensor(6.8784)\n",
      "tensor(6.7481)\n",
      "tensor(6.6229)\n",
      "tensor(6.5027)\n",
      "tensor(6.3871)\n",
      "tensor(6.2761)\n",
      "tensor(6.1694)\n",
      "tensor(6.0669)\n",
      "tensor(5.9685)\n",
      "tensor(5.8739)\n",
      "tensor(5.7830)\n",
      "tensor(5.6957)\n",
      "tensor(5.6118)\n",
      "tensor(5.5312)\n",
      "tensor(5.4538)\n",
      "tensor(5.3794)\n",
      "tensor(5.3080)\n",
      "tensor(5.2393)\n",
      "tensor(5.1733)\n",
      "tensor(5.1099)\n",
      "tensor(5.0490)\n",
      "tensor(4.9905)\n",
      "tensor(4.9343)\n",
      "tensor(4.8803)\n",
      "tensor(4.8285)\n",
      "tensor(4.7786)\n",
      "tensor(4.7307)\n",
      "tensor(4.6847)\n",
      "tensor(4.6405)\n",
      "tensor(4.5980)\n",
      "tensor(4.5572)\n",
      "tensor(4.5180)\n",
      "tensor(4.4804)\n",
      "tensor(4.4442)\n",
      "tensor(4.4094)\n",
      "tensor(4.3760)\n",
      "tensor(4.3439)\n",
      "tensor(4.3131)\n",
      "tensor(4.2835)\n",
      "tensor(4.2550)\n",
      "tensor(4.2277)\n",
      "tensor(4.2014)\n",
      "tensor(4.1762)\n",
      "tensor(4.1519)\n",
      "tensor(4.1287)\n",
      "tensor(4.1063)\n",
      "tensor(4.0848)\n",
      "tensor(4.0641)\n",
      "tensor(4.0443)\n",
      "tensor(4.0252)\n",
      "tensor(4.0069)\n",
      "tensor(3.9893)\n",
      "tensor(3.9724)\n",
      "tensor(3.9561)\n",
      "tensor(3.9405)\n",
      "tensor(3.9255)\n",
      "tensor(3.9111)\n",
      "tensor(3.8973)\n",
      "tensor(3.8840)\n",
      "tensor(3.8712)\n",
      "tensor(3.8589)\n",
      "tensor(3.8471)\n",
      "tensor(3.8358)\n",
      "tensor(3.8249)\n",
      "tensor(3.8145)\n",
      "tensor(3.8044)\n",
      "tensor(3.7948)\n",
      "tensor(3.7855)\n",
      "tensor(3.7766)\n",
      "tensor(3.7680)\n",
      "tensor(3.7598)\n",
      "tensor(3.7519)\n",
      "tensor(3.7443)\n",
      "tensor(3.7370)\n",
      "tensor(3.7300)\n",
      "tensor(3.7233)\n",
      "tensor(3.7168)\n",
      "tensor(3.7106)\n",
      "tensor(3.7046)\n",
      "tensor(3.6989)\n",
      "tensor(3.6933)\n",
      "tensor(3.6881)\n",
      "tensor(3.6830)\n",
      "tensor(3.6781)\n",
      "tensor(3.6734)\n"
     ]
    }
   ],
   "source": [
    "num_epochs = 1000\n",
    "target = y_noise\n",
    "for i in range(num_epochs):\n",
    "    optimizer.zero_grad() # 1\n",
    "    y_pred = linear_model(x) # 2\n",
    "    loss = mse_loss(y_pred, target) # 3\n",
    "    loss.backward() # 4\n",
    "    optimizer.step() # 5\n",
    "    \n",
    "    if i % 10 == 0:\n",
    "        print(loss.data)"
   ]
  },
  {
   "cell_type": "code",
   "execution_count": 98,
   "id": "wrapped-vermont",
   "metadata": {},
   "outputs": [
    {
     "name": "stdout",
     "output_type": "stream",
     "text": [
      "Parameter containing:\n",
      "tensor([[2.0270]], requires_grad=True)\n",
      "Parameter containing:\n",
      "tensor([2.6348], requires_grad=True)\n",
      "tensor([[-0.0006]])\n",
      "tensor([-0.6660])\n",
      "tensor([[0.]])\n",
      "tensor([0.])\n"
     ]
    }
   ],
   "source": [
    "print(linear_model.weight)\n",
    "print(linear_model.bias)\n",
    "print(linear_model.weight.grad)\n",
    "print(linear_model.bias.grad)\n",
    "optimizer.zero_grad()\n",
    "print(linear_model.weight.grad)\n",
    "print(linear_model.bias.grad)"
   ]
  },
  {
   "cell_type": "markdown",
   "id": "eleven-folder",
   "metadata": {},
   "source": [
    "# 퀴즈 (Easy)  \n",
    "1) 위 선형회귀모델에서 하이퍼파라미터의 종류는 뭐가 있을까요?   \n",
    "2) 하이퍼파라미터를 조정해서 모델의 가중치와 편향이 정답에 가깝도록 학습시켜보세요"
   ]
  },
  {
   "cell_type": "markdown",
   "id": "hungarian-nebraska",
   "metadata": {},
   "source": [
    "## 3.2 다중선형회귀"
   ]
  },
  {
   "cell_type": "code",
   "execution_count": 118,
   "id": "pleased-editor",
   "metadata": {
    "scrolled": true
   },
   "outputs": [
    {
     "name": "stdout",
     "output_type": "stream",
     "text": [
      "y shape : torch.Size([1000, 1])\n"
     ]
    }
   ],
   "source": [
    "# 선형회귀 데이터 생성\n",
    "num_data = 1000\n",
    "\n",
    "# torch.init\n",
    "# init 모듈은 가중치나 텐서 데이터들의 분포를 초기화할 때 사용합니다.\n",
    "x = init.uniform_(torch.Tensor(num_data, 3), -10, 10) # 첫번째 인자 : 텐서 shape, 두번째, 세번째 : 범위\n",
    "noise = init. normal_(torch.FloatTensor(num_data, 1), std=1)\n",
    "weights = torch.tensor([2., 3., 1.])\n",
    "y = x.matmul(weights) + -1\n",
    "y = y.unsqueeze(1)\n",
    "\n",
    "# y = 2*x + 3 # 실제 모델.\n",
    "y_noise = y + noise\n",
    "print(f\"y shape : {y_noise.shape}\")\n",
    "\n",
    "optimizer = optim.SGD(linear_model.parameters(), lr=0.01)"
   ]
  },
  {
   "cell_type": "markdown",
   "id": "demographic-tampa",
   "metadata": {},
   "source": [
    "- 다중 선형 회귀 모델"
   ]
  },
  {
   "cell_type": "markdown",
   "id": "after-closing",
   "metadata": {},
   "source": [
    "$${y = w_1 x_1 + w_2 x_2 + w_3 + x_3 + b}$$"
   ]
  },
  {
   "cell_type": "code",
   "execution_count": 119,
   "id": "short-headline",
   "metadata": {},
   "outputs": [],
   "source": [
    "# 다중 선형 회귀 모델 : y = w_1*x_1 + w_2*x_2 + w_3*x_3 + b\n",
    "multi_model = nn.Linear(3, 1)\n",
    "optimizer = optim.SGD(multi_model.parameters(), lr=0.001)\n",
    "loss_func = nn.MSELoss()\n",
    "target = y_noise"
   ]
  },
  {
   "cell_type": "code",
   "execution_count": 120,
   "id": "signal-buying",
   "metadata": {},
   "outputs": [
    {
     "name": "stdout",
     "output_type": "stream",
     "text": [
      "tensor(346.8461)\n",
      "tensor(96.3023)\n",
      "tensor(27.4264)\n",
      "tensor(8.4693)\n",
      "tensor(3.2418)\n",
      "tensor(1.7938)\n",
      "tensor(1.3871)\n",
      "tensor(1.2676)\n",
      "tensor(1.2277)\n",
      "tensor(1.2100)\n",
      "tensor(1.1986)\n",
      "tensor(1.1893)\n",
      "tensor(1.1808)\n",
      "tensor(1.1727)\n",
      "tensor(1.1650)\n",
      "tensor(1.1576)\n",
      "tensor(1.1505)\n",
      "tensor(1.1437)\n",
      "tensor(1.1371)\n",
      "tensor(1.1308)\n",
      "tensor(1.1248)\n",
      "tensor(1.1190)\n",
      "tensor(1.1134)\n",
      "tensor(1.1080)\n",
      "tensor(1.1028)\n",
      "tensor(1.0979)\n",
      "tensor(1.0931)\n",
      "tensor(1.0886)\n",
      "tensor(1.0842)\n",
      "tensor(1.0799)\n",
      "tensor(1.0759)\n",
      "tensor(1.0720)\n",
      "tensor(1.0682)\n",
      "tensor(1.0646)\n",
      "tensor(1.0612)\n",
      "tensor(1.0579)\n",
      "tensor(1.0547)\n",
      "tensor(1.0516)\n",
      "tensor(1.0486)\n",
      "tensor(1.0458)\n",
      "tensor(1.0431)\n",
      "tensor(1.0405)\n",
      "tensor(1.0380)\n",
      "tensor(1.0356)\n",
      "tensor(1.0332)\n",
      "tensor(1.0310)\n",
      "tensor(1.0289)\n",
      "tensor(1.0268)\n",
      "tensor(1.0249)\n",
      "tensor(1.0230)\n",
      "tensor(1.0211)\n",
      "tensor(1.0194)\n",
      "tensor(1.0177)\n",
      "tensor(1.0161)\n",
      "tensor(1.0145)\n",
      "tensor(1.0130)\n",
      "tensor(1.0116)\n",
      "tensor(1.0102)\n",
      "tensor(1.0089)\n",
      "tensor(1.0076)\n",
      "tensor(1.0064)\n",
      "tensor(1.0052)\n",
      "tensor(1.0041)\n",
      "tensor(1.0030)\n",
      "tensor(1.0020)\n",
      "tensor(1.0010)\n",
      "tensor(1.0000)\n",
      "tensor(0.9991)\n",
      "tensor(0.9982)\n",
      "tensor(0.9974)\n",
      "tensor(0.9965)\n",
      "tensor(0.9958)\n",
      "tensor(0.9950)\n",
      "tensor(0.9943)\n",
      "tensor(0.9936)\n",
      "tensor(0.9929)\n",
      "tensor(0.9923)\n",
      "tensor(0.9916)\n",
      "tensor(0.9911)\n",
      "tensor(0.9905)\n",
      "tensor(0.9899)\n",
      "tensor(0.9894)\n",
      "tensor(0.9889)\n",
      "tensor(0.9884)\n",
      "tensor(0.9879)\n",
      "tensor(0.9875)\n",
      "tensor(0.9871)\n",
      "tensor(0.9867)\n",
      "tensor(0.9863)\n",
      "tensor(0.9859)\n",
      "tensor(0.9855)\n",
      "tensor(0.9852)\n",
      "tensor(0.9848)\n",
      "tensor(0.9845)\n",
      "tensor(0.9842)\n",
      "tensor(0.9839)\n",
      "tensor(0.9836)\n",
      "tensor(0.9833)\n",
      "tensor(0.9830)\n",
      "tensor(0.9828)\n"
     ]
    }
   ],
   "source": [
    "for i in range(num_epochs):\n",
    "    optimizer.zero_grad() # 1\n",
    "    y_pred = multi_model(x) # 2\n",
    "    loss = loss_func(y_pred, target) # 3\n",
    "    loss.backward() # 4\n",
    "    optimizer.step() # 5\n",
    "    \n",
    "    if i % 10 == 0:\n",
    "        print(loss.data)"
   ]
  },
  {
   "cell_type": "code",
   "execution_count": 139,
   "id": "acquired-listing",
   "metadata": {},
   "outputs": [
    {
     "name": "stdout",
     "output_type": "stream",
     "text": [
      "Parameter containing:\n",
      "tensor([[2.0014, 2.9992, 1.0001]], requires_grad=True)\n",
      "Parameter containing:\n",
      "tensor([-0.9591], requires_grad=True)\n",
      "tensor([[ 0.0001, -0.0001,  0.0006]])\n",
      "tensor([0.1556])\n",
      "tensor([[ 0.0001, -0.0001,  0.0006]])\n",
      "tensor([0.1556])\n"
     ]
    }
   ],
   "source": [
    "print(multi_model.weight)\n",
    "print(multi_model.bias)\n",
    "print(multi_model.weight.grad)\n",
    "print(multi_model.bias.grad)\n",
    "optimizer.zero_grad()\n",
    "print(multi_model.weight.grad)\n",
    "print(multi_model.bias.grad)"
   ]
  },
  {
   "cell_type": "markdown",
   "id": "domestic-effect",
   "metadata": {},
   "source": [
    "# 퀴즈 (Easy)  \n",
    "1) 하이퍼파라미터를 조정해서 모델의 가중치와 편향이 정답에 가깝도록 학습시켜보세요"
   ]
  },
  {
   "cell_type": "markdown",
   "id": "engaged-immigration",
   "metadata": {},
   "source": [
    "## 3.3 로지스틱 회귀"
   ]
  },
  {
   "cell_type": "code",
   "execution_count": 134,
   "id": "western-choir",
   "metadata": {},
   "outputs": [],
   "source": [
    "x_data = [[0, 2], [1, 2], [3, 1], [4, 3], [5, 3], [6, 2]]\n",
    "y_data = [[0], [0], [0], [1], [1], [1]]\n",
    "x_train = torch.FloatTensor(x_data) # torch.FloatTensor(x_data) 을 한 이유?? -> 국진님에게 질문??\n",
    "y_train = torch.FloatTensor(y_data)"
   ]
  },
  {
   "cell_type": "code",
   "execution_count": 135,
   "id": "western-festival",
   "metadata": {},
   "outputs": [],
   "source": [
    "linear_model = nn.Linear(2, 1)\n",
    "sigmoid = nn.Sigmoid()\n",
    "optimizer = optim.SGD(linear_model.parameters(), lr= 0.001)"
   ]
  },
  {
   "cell_type": "code",
   "execution_count": 136,
   "id": "illegal-support",
   "metadata": {},
   "outputs": [
    {
     "name": "stdout",
     "output_type": "stream",
     "text": [
      "tensor(2.7931)\n",
      "tensor(2.7157)\n",
      "tensor(2.6386)\n",
      "tensor(2.5620)\n",
      "tensor(2.4858)\n",
      "tensor(2.4101)\n",
      "tensor(2.3349)\n",
      "tensor(2.2603)\n",
      "tensor(2.1863)\n",
      "tensor(2.1130)\n",
      "tensor(2.0405)\n",
      "tensor(1.9688)\n",
      "tensor(1.8981)\n",
      "tensor(1.8283)\n",
      "tensor(1.7597)\n",
      "tensor(1.6923)\n",
      "tensor(1.6262)\n",
      "tensor(1.5615)\n",
      "tensor(1.4984)\n",
      "tensor(1.4371)\n",
      "tensor(1.3775)\n",
      "tensor(1.3199)\n",
      "tensor(1.2644)\n",
      "tensor(1.2111)\n",
      "tensor(1.1601)\n",
      "tensor(1.1114)\n",
      "tensor(1.0653)\n",
      "tensor(1.0216)\n",
      "tensor(0.9805)\n",
      "tensor(0.9419)\n",
      "tensor(0.9059)\n",
      "tensor(0.8723)\n",
      "tensor(0.8412)\n",
      "tensor(0.8124)\n",
      "tensor(0.7858)\n",
      "tensor(0.7614)\n",
      "tensor(0.7390)\n",
      "tensor(0.7184)\n",
      "tensor(0.6996)\n",
      "tensor(0.6824)\n",
      "tensor(0.6667)\n",
      "tensor(0.6524)\n",
      "tensor(0.6393)\n",
      "tensor(0.6274)\n",
      "tensor(0.6166)\n",
      "tensor(0.6067)\n",
      "tensor(0.5977)\n",
      "tensor(0.5894)\n",
      "tensor(0.5819)\n",
      "tensor(0.5750)\n",
      "tensor(0.5687)\n",
      "tensor(0.5629)\n",
      "tensor(0.5576)\n",
      "tensor(0.5527)\n",
      "tensor(0.5483)\n",
      "tensor(0.5442)\n",
      "tensor(0.5404)\n",
      "tensor(0.5369)\n",
      "tensor(0.5337)\n",
      "tensor(0.5307)\n",
      "tensor(0.5279)\n",
      "tensor(0.5253)\n",
      "tensor(0.5230)\n",
      "tensor(0.5207)\n",
      "tensor(0.5187)\n",
      "tensor(0.5168)\n",
      "tensor(0.5150)\n",
      "tensor(0.5133)\n",
      "tensor(0.5117)\n",
      "tensor(0.5102)\n",
      "tensor(0.5088)\n",
      "tensor(0.5075)\n",
      "tensor(0.5063)\n",
      "tensor(0.5051)\n",
      "tensor(0.5040)\n",
      "tensor(0.5029)\n",
      "tensor(0.5019)\n",
      "tensor(0.5010)\n",
      "tensor(0.5001)\n",
      "tensor(0.4992)\n",
      "tensor(0.4984)\n",
      "tensor(0.4976)\n",
      "tensor(0.4969)\n",
      "tensor(0.4961)\n",
      "tensor(0.4954)\n",
      "tensor(0.4948)\n",
      "tensor(0.4941)\n",
      "tensor(0.4935)\n",
      "tensor(0.4929)\n",
      "tensor(0.4923)\n",
      "tensor(0.4918)\n",
      "tensor(0.4912)\n",
      "tensor(0.4907)\n",
      "tensor(0.4902)\n",
      "tensor(0.4897)\n",
      "tensor(0.4892)\n",
      "tensor(0.4887)\n",
      "tensor(0.4882)\n",
      "tensor(0.4878)\n",
      "tensor(0.4873)\n"
     ]
    }
   ],
   "source": [
    "# 학습\n",
    "for i in range(num_epochs):\n",
    "    optimizer.zero_grad() # 1\n",
    "    y_pred = sigmoid(linear_model(x_train)) # 2\n",
    "    loss = bce_loss(y_pred, y_train) # 3\n",
    "    loss.backward() # 4\n",
    "    optimizer.step() # 5\n",
    "    \n",
    "    if i % 10 == 0:\n",
    "        print(loss.data)"
   ]
  },
  {
   "cell_type": "code",
   "execution_count": 137,
   "id": "flexible-transaction",
   "metadata": {},
   "outputs": [
    {
     "name": "stdout",
     "output_type": "stream",
     "text": [
      "Parameter containing:\n",
      "tensor([[ 0.4013, -0.1977]], requires_grad=True)\n",
      "Parameter containing:\n",
      "tensor([-0.2953], requires_grad=True)\n",
      "tensor([[-0.1698,  0.0277]])\n",
      "tensor([0.1176])\n",
      "tensor([[0., 0.]])\n",
      "tensor([0.])\n"
     ]
    }
   ],
   "source": [
    "print(linear_model.weight)\n",
    "print(linear_model.bias)\n",
    "print(linear_model.weight.grad)\n",
    "print(linear_model.bias.grad)\n",
    "optimizer.zero_grad()\n",
    "print(linear_model.weight.grad)\n",
    "print(linear_model.bias.grad)"
   ]
  },
  {
   "cell_type": "markdown",
   "id": "signal-planet",
   "metadata": {},
   "source": [
    "## 3.4 클랙스를 통한 회귀 모델 구현"
   ]
  },
  {
   "cell_type": "code",
   "execution_count": 149,
   "id": "described-mountain",
   "metadata": {},
   "outputs": [],
   "source": [
    "class LinearRegression(nn.Module):\n",
    "    def __init__(self):\n",
    "        # 부모클래스인 nn.Module의 생성자를 먼저 호출한다.\n",
    "        super(LinearRegression, self).__init__() # super 는 클래스 상속을 위해 사용하는 함수 / 주의사항 : super.__init__를 해야 상속을 받을 수 있음!!\n",
    "        self.linear_layer = nn.Linear(1,1)\n",
    "        \n",
    "    def forward(self, x):\n",
    "        # 순전파 함수 : 입력값 x를 생성자에 정의된 레이어에 넣어서 값을 예측한다. = 출력값을 내 놓는다.\n",
    "        return self.linear_layer(x)\n",
    "        \n",
    "class MultiRegression(nn.Module):\n",
    "    def __init__(self):\n",
    "        # 부모클래스인 nn.Module의 생성자를 먼저 호출한다.\n",
    "        super(MultiRegression, self).__init__()\n",
    "        self.multi_layer = nn.Linear(3,1)\n",
    "        \n",
    "    def forward(self, x):\n",
    "        # 순전파 함수 : 입력값 x를 생성자에 정의된 레이어에 넣어서 값을 예측한다.\n",
    "        return self.multi_layer(x)\n",
    "        \n",
    "# 퀴즈 : 로지스틱 회귀 모델을 클래스를 통해 구현하세요.\n",
    "\n",
    "class LogisticRegression(nn.Module):\n",
    "    def __init__(self):\n",
    "        super(LogisticRegression, self).__init__()\n",
    "        self.linear_layer = nn.Linear(2,1)\n",
    "        self.sigmoid = nn.Sigmoid()\n",
    "    \n",
    "    def forward(self, x):\n",
    "        x = self.linear_layer(x)\n",
    "        x = self.sigmoid(x)\n",
    "        return x"
   ]
  },
  {
   "cell_type": "code",
   "execution_count": 153,
   "id": "lesser-train",
   "metadata": {},
   "outputs": [],
   "source": [
    "linear_model = LinearRegression()\n",
    "multi_model = MultiRegression()\n",
    "logistic_model = LogisticRegression()"
   ]
  },
  {
   "cell_type": "markdown",
   "id": "attempted-authentication",
   "metadata": {},
   "source": [
    "### 퀴즈 (Normal)\n",
    "\n",
    "위 세 가지 모델을 구현했으면 또 반복문을 통해 학습시켜야 합니다.  \n",
    "이는 귀찮은 과정이니 함수 형태로 만들어서 코드의 반복을 줄여봅시다.  \n",
    "텐서플로우에서 사용했던 fit 함수를 직접 만들어봅시다.  \n",
    "fit() 함수는 model, optimizer, loss_func, x_train, y_train, epochs를 입력으로 받습니다.  \n",
    "위에서 수행한 반복문을 함수형태로 만들어서 세 가지 회귀모델에 적용할 것입니다."
   ]
  },
  {
   "cell_type": "code",
   "execution_count": 154,
   "id": "fatty-albert",
   "metadata": {},
   "outputs": [],
   "source": [
    "def fit(model, optimizer, loss_func, x_train, y_train, epochs):\n",
    "    for epoch in range(epochs):\n",
    "        optimizer.zero_grad() # 1\n",
    "        output = model(x_train) # 2\n",
    "        L = loss_func(output, y_train) # 3\n",
    "        L.backward() # 4\n",
    "        optimizer.step() # 5\n",
    "        \n",
    "        if epoch % 100 == 0:\n",
    "            print(f'Epoch: {epoch + 1}/{epochs} | Loss: {L.item():4f}')\n",
    "\n",
    "# # 국진님 코드            \n",
    "# def fit(model, optimizer, loss_func, x_train, y_train, epochs):\n",
    "#     for epoch in range(epochs):\n",
    "#         optimizer.zero_grad()\n",
    "#         output = model(x_train)\n",
    "#         L = loss_func(output, y_train) \n",
    "#         L.backward() \n",
    "#         optimizer.step()\n",
    "#         if epoch % 100 == 0:\n",
    "#             print(f'Epoch: {epoch + 1}/{epochs} | Loss: {L.item():4f}')"
   ]
  },
  {
   "cell_type": "code",
   "execution_count": 155,
   "id": "latter-chocolate",
   "metadata": {},
   "outputs": [
    {
     "name": "stdout",
     "output_type": "stream",
     "text": [
      "Epoch: 1/1000 | Loss: 0.870352\n",
      "Epoch: 101/1000 | Loss: 0.734094\n",
      "Epoch: 201/1000 | Loss: 0.640920\n",
      "Epoch: 301/1000 | Loss: 0.590855\n",
      "Epoch: 401/1000 | Loss: 0.564164\n",
      "Epoch: 501/1000 | Loss: 0.543843\n",
      "Epoch: 601/1000 | Loss: 0.525290\n",
      "Epoch: 701/1000 | Loss: 0.508153\n",
      "Epoch: 801/1000 | Loss: 0.492491\n",
      "Epoch: 901/1000 | Loss: 0.478275\n"
     ]
    }
   ],
   "source": [
    "num_epochs = 1000\n",
    "x_data = [[0, 2], [1, 2], [3, 1], [4, 3], [5, 3], [6, 2]]\n",
    "y_data = [[0], [0], [0], [1], [1], [1]]\n",
    "x_train = torch.FloatTensor(x_data)\n",
    "y_train = torch.FloatTensor(y_data)\n",
    "lr = 0.001\n",
    "optimizer = optim.Adam(logistic_model.parameters(), lr)\n",
    "fit(logistic_model, optimizer, bce_loss, x_train, y_train, num_epochs)\n",
    "\n",
    "# # dataset for linear regression\n",
    "# num_data = 1000\n",
    "# epochs = 1000\n",
    "\n",
    "# x = init.uniform_(torch.Tensor(num_data, 1), -10, 10)\n",
    "# noise = init.normal_(torch.FloatTensor(num_data, 1), std=1)\n",
    "# y = 2*x + 3\n",
    "# y_noise = y + noise\n",
    "# lr = 0.01\n",
    "# optimizer = optim.Adam(linear_model.parameters(), lr)\n",
    "# fit(linear_model, optimizer, mse_loss, x, y_noise, epochs)\n",
    "# print(linear_model.linear_layer.weight)"
   ]
  },
  {
   "cell_type": "markdown",
   "id": "sacred-theater",
   "metadata": {},
   "source": [
    "### Softmax 회귀\n",
    "\n",
    "https://wikidocs.net/60575"
   ]
  }
 ],
 "metadata": {
  "kernelspec": {
   "display_name": "Python 3",
   "language": "python",
   "name": "python3"
  },
  "language_info": {
   "codemirror_mode": {
    "name": "ipython",
    "version": 3
   },
   "file_extension": ".py",
   "mimetype": "text/x-python",
   "name": "python",
   "nbconvert_exporter": "python",
   "pygments_lexer": "ipython3",
   "version": "3.7.9"
  }
 },
 "nbformat": 4,
 "nbformat_minor": 5
}
