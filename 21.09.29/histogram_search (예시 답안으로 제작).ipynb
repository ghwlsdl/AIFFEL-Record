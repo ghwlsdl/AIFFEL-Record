{
 "cells": [
  {
   "cell_type": "markdown",
   "id": "divided-navigator",
   "metadata": {},
   "source": [
    "# 12-7. 실습 : 비슷한 이미지 찾아내기"
   ]
  },
  {
   "cell_type": "markdown",
   "id": "perfect-profession",
   "metadata": {},
   "source": [
    "## CIFAR-100 이미지 중 비슷한 이미지 찾아내기"
   ]
  },
  {
   "cell_type": "code",
   "execution_count": 11,
   "id": "humanitarian-bones",
   "metadata": {},
   "outputs": [],
   "source": [
    "# import module\n",
    "\n",
    "import os\n",
    "import pickle\n",
    "import cv2\n",
    "import numpy as np\n",
    "from matplotlib import pyplot as plt\n",
    "from tqdm import tqdm\n",
    "from PIL import Image\n",
    "\n",
    "# 전처리 시 생성했던 디렉토리 구조\n",
    "dir_path = os.getenv('HOME')+'/aiffel/python_image_proc/'\n",
    "train_file_path = os.path.join(dir_path, 'train')\n",
    "images_dir_path = os.path.join(dir_path, 'cifar-images')"
   ]
  },
  {
   "cell_type": "code",
   "execution_count": 12,
   "id": "liable-frederick",
   "metadata": {},
   "outputs": [],
   "source": [
    "# 파일명을 인자로 받아 해당 이미지 파일과 히스토그램을 출력해 주는 함수\n",
    "def draw_color_histogram_from_image(file_name):\n",
    "    image_path = os.path.join(images_dir_path, file_name)\n",
    "    # 이미지 열기\n",
    "    img = Image.open(image_path)\n",
    "    cv_image = cv2.imread(image_path)\n",
    "\n",
    "    # Image와 Histogram 그려보기\n",
    "    f=plt.figure(figsize=(10,3))\n",
    "    im1 = f.add_subplot(1,2,1)\n",
    "    im1.imshow(img)\n",
    "    im1.set_title(\"Image\")\n",
    "\n",
    "    im2 = f.add_subplot(1,2,2)\n",
    "    color = ('b','g','r')\n",
    "    for i,col in enumerate(color):\n",
    "        # image에서 i번째 채널의 히스토그램을 뽑아서(0:blue, 1:green, 2:red)\n",
    "        histr = cv2.calcHist([cv_image],[i],None,[256],[0,256])   \n",
    "        im2.plot(histr,color = col)   # 그래프를 그릴 때 채널 색상과 맞춰서 그립니다.\n",
    "    im2.set_title(\"Histogram\")"
   ]
  },
  {
   "cell_type": "code",
   "execution_count": 13,
   "id": "loose-stanley",
   "metadata": {},
   "outputs": [
    {
     "data": {
      "image/png": "[encoded data removed]",
      "text/plain": [
       "<Figure size 720x216 with 2 Axes>"
      ]
     },
     "metadata": {
      "needs_background": "light"
     },
     "output_type": "display_data"
    }
   ],
   "source": [
    "draw_color_histogram_from_image('adriatic_s_001807.png')"
   ]
  },
  {
   "cell_type": "markdown",
   "id": "breeding-renaissance",
   "metadata": {},
   "source": [
    "### STEP 1. 아이디어 개요"
   ]
  },
  {
   "cell_type": "markdown",
   "id": "domestic-nothing",
   "metadata": {},
   "source": [
    "- 프로그램이 실행된다.\n",
    "\n",
    "- 입력된 경로의 이미지 파일을 불러온다.\n",
    "\n",
    "- 검색 대상 이미지들 중 불러온 이미지와 가장 비슷한 이미지 5개를 표시한다.\n",
    "\n",
    "- 프로그램이 종료된다."
   ]
  },
  {
   "cell_type": "markdown",
   "id": "plastic-recall",
   "metadata": {},
   "source": [
    "### STEP 2. 아이디어 구체화"
   ]
  },
  {
   "cell_type": "markdown",
   "id": "intellectual-springfield",
   "metadata": {},
   "source": [
    "- 프로그램이 실행된다.\n",
    "\n",
    "- 입력된 경로의 이미지 파일을 불러온다.\n",
    "\n",
    "- 검색 대상 이미지들 중 불러온 이미지와 가장 비슷한 이미지 5개를 고른다.\n",
    "\n",
    "\n",
    "    - 검색 대상 이미지들을 불러온다.\n",
    "\n",
    "    - 입력 이미지와 비교하여 유사도를 기준으로 순서를 매긴다.\n",
    "\n",
    "    - 유사도 순서상으로 상위 5개 이미지를 고른다.\n",
    "\n",
    "\n",
    "- 고른 이미지들을 표시한다.\n",
    "\n",
    "- 프로그램이 종료된다."
   ]
  },
  {
   "cell_type": "markdown",
   "id": "unusual-shaft",
   "metadata": {},
   "source": [
    "### STEP 3. 핵심 알고리즘 - 유사도 계산 방법"
   ]
  },
  {
   "cell_type": "markdown",
   "id": "demonstrated-dutch",
   "metadata": {},
   "source": [
    "- 프로그램이 실행된다.\n",
    "- 입력된 경로의 이미지 파일을 불러온다.\n",
    "- 검색 대상 이미지들 중 불러온 이미지와 가장 비슷한 이미지 5개를 고른다.\n",
    "\n",
    "\n",
    "    - 검색 대상 이미지들을 불러온다.\n",
    "\n",
    "    - 입력 이미지와 비교하여 유사도를 기준으로 순서를 매긴다.\n",
    "\n",
    "        - 입력 이미지와 검색 대상 이미지들 사이의 유사도를 계산한다.\n",
    "        - 계산된 유사도를 기준으로 정렬하여 순서를 매긴다.\n",
    "    - 유사도 순서상으로 상위 5개 이미지를 고른다.\n",
    "\n",
    "-고른 이미지들을 표시한다.\n",
    "- 프로그램이 종료된다.\n",
    "\n",
    "-------------------------------------------------------------------\n",
    "\n",
    "\n",
    "그리고 우리는 유사도를 히스토그램끼리 비교할 것이고, 여기에는 OpenCV의 기능을 사용할 예정이라고 했습니다.\n",
    "\n",
    "- 프로그램이 실행된다.\n",
    "\n",
    "- 입력된 경로의 이미지 파일을 불러온다.\n",
    "\n",
    "- 검색 대상 이미지들 중 불러온 이미지와 가장 비슷한 이미지 5개를 고른다.\n",
    "\n",
    "    - 검색 대상 이미지들을 불러온다.\n",
    "    - 입력 이미지와 비교하여 유사도를 기준으로 순서를 매긴다.\n",
    "\n",
    "        - 입력 이미지와 검색 대상 이미지들 사이의 유사도를 계산한다.\n",
    "\n",
    "            - 입력 이미지와 검색 대상 이미지들을 하나하나 히스토그램으로 만든다.\n",
    "            - OpenCV의 compareHist() 함수를 사용하여 입력 이미지와 검색 대상 이미지 하나하나의 히스토그램 간 유사도를 계산한다.\n",
    "\n",
    "        - 계산된 유사도를 기준으로 정렬하여 순서를 매긴다.\n",
    "\n",
    "    - 유사도 순서상으로 상위 5개 이미지를 고른다.\n",
    "    \n",
    "- 고른 이미지들을 표시한다.\n",
    "\n",
    "- 프로그램이 종료된다."
   ]
  },
  {
   "cell_type": "markdown",
   "id": "increased-apartment",
   "metadata": {},
   "source": [
    "### STEP 4. 기능의 모듈화"
   ]
  },
  {
   "cell_type": "markdown",
   "id": "oriental-emperor",
   "metadata": {},
   "source": [
    "프로그램이 실행된다.\n",
    "\n",
    "입력된 경로의 이미지 파일을 불러온다.\n",
    "\n",
    "검색 대상 이미지들을 불러온다.\n",
    "\n",
    "입력 이미지를 히스토그램으로 만든다.\n",
    "\n",
    "검색 대상 이미지들을 하나하나 히스토그램으로 만든다.\n",
    "\n",
    "OpenCV의 compareHist() 함수를 사용하여 입력 이미지와\n",
    "검색 대상 이미지 하나하나의 히스토그램 간 유사도를 계산한다.\n",
    "\n",
    "계산된 유사도를 기준으로 정렬하여 순서를 매긴다.\n",
    "\n",
    "유사도 순서상으로 상위 5개 이미지를 고른다.\n",
    "\n",
    "고른 이미지들을 표시한다.\n",
    "\n",
    "프로그램이 종료된다.\n",
    "\n",
    "----------------------------------------------------------------\n",
    "\n",
    "우리의 설계가 좀 더 코드스러워지도록, 유관한 단계들을 묶어 함수들로 만들어봅시다.\n",
    "\n",
    "\n",
    "프로그램이 실행된다.\n",
    "\n",
    "입력된 경로의 이미지 파일을 불러온다.\n",
    "\n",
    "입력 이미지를 히스토그램으로 만든다.\n",
    "\n",
    "build_histogram_db()\n",
    "\n",
    "    검색 대상 이미지들을 불러온다.\n",
    "    검색 대상 이미지들을 하나하나 히스토그램으로 만든다.\n",
    "\n",
    "search()\n",
    "\n",
    "    OpenCV의 compareHist() 함수를 사용하여 입력 이미지와\n",
    "    검색 대상 이미지 하나하나의 히스토그램 간 유사도를 계산한다.\n",
    "\n",
    "    계산된 유사도를 기준으로 정렬하여 순서를 매긴다.\n",
    "\n",
    "    유사도 순서상으로 상위 5개 이미지를 고른다.\n",
    "\n",
    "고른 이미지들을 표시한다.\n",
    "\n",
    "프로그램이 종료된다.\n",
    "\n",
    "--------------------------------------------------------------------------------\n",
    "자, 여기서 조금 더 원활한 실습을 위해, 우리의 설계가 조금 더 단순해지도록 기능을 살짝 제한해 보겠습니다. 아무 이미지나 입력받는 게 아니라, 검색 대상이었던 CIFAR-100 이미지 중 하나의 이름을 입력받는 것으로 대체해 봅시다.\n",
    "\n",
    "프로그램이 실행된다.\n",
    "\n",
    "build_histogram_db()\n",
    "\n",
    "    CIFAR-100 이미지들을 불러온다.\n",
    "    CIFAR-100 이미지들을 하나하나 히스토그램으로 만든다.\n",
    "\n",
    "CIFAR-100 히스토그램 중 입력된 이미지 이름에 해당하는 히스토그램을 입력 이미지로 선택한다.\n",
    "\n",
    "search()\n",
    "\n",
    "    OpenCV의 compareHist() 함수를 사용하여 입력 이미지와\n",
    "    검색 대상 이미지 하나하나의 히스토그램 간 유사도를 계산한다.\n",
    "    \n",
    "    계산된 유사도를 기준으로 정렬하여 순서를 매긴다.\n",
    "\n",
    "    유사도 순서상으로 상위 5개 이미지를 고른다.\n",
    "\n",
    "고른 이미지들을 표시한다.\n",
    "\n",
    "프로그램이 종료된다.\n"
   ]
  },
  {
   "cell_type": "markdown",
   "id": "cutting-humanitarian",
   "metadata": {},
   "source": [
    "### STEP 5. 설계 과정 완성"
   ]
  },
  {
   "cell_type": "markdown",
   "id": "handed-message",
   "metadata": {},
   "source": [
    "그럼 마지막 단계로, 각 함수에 입력되고 반환될 데이터의 형태와 변수명을 한번 정해봅시다.\n",
    "\n",
    "프로그램이 실행된다.\n",
    "\n",
    "build_histogram_db()\n",
    "\n",
    "    CIFAR-100 이미지들을 불러온다.\n",
    "\n",
    "    CIFAR-100 이미지들을 하나하나 히스토그램으로 만든다.\n",
    "    \n",
    "    이미지 이름을 키로 하고, 히스토그램을 값으로 하는\n",
    "    \n",
    "    딕셔너리 histogram_db를 반환한다.\n",
    "\n",
    "CIFAR-100 히스토그램 중 입력된 이미지 이름에 해당하는\n",
    "히스토그램을 입력 이미지로 선택하여 target_histogram이라는 변수명으로 지정한다.\n",
    "\n",
    "search()\n",
    "\n",
    "    입력 이미지 히스토그램 target_histogram와 전체 검색\n",
    "    대상 이미지들의 히스토그램을 가진 딕셔너리 histogram_db를 입력으로 받는다.\n",
    "\n",
    "    OpenCV의 compareHist() 함수를 사용하여 입력 이미지와\n",
    "    검색 대상 이미지 하나하나의 히스토그램 간 유사도를 계산한다.\n",
    "    결과는 result라는 이름의 딕셔너리로, 키는 이미지 이름, 값은 유사도로 한다.\n",
    "\n",
    "    계산된 유사도를 기준으로 정렬하여 순서를 매긴다.\n",
    "\n",
    "    유사도 순서상으로 상위 5개 이미지만 골라서 result에 남긴다.\n",
    "\n",
    "고른 이미지들을 표시한다.\n",
    "\n",
    "프로그램이 종료된다."
   ]
  },
  {
   "cell_type": "markdown",
   "id": "biological-handy",
   "metadata": {},
   "source": [
    "### STEP 6. 코드로 구현"
   ]
  },
  {
   "cell_type": "code",
   "execution_count": 16,
   "id": "right-radiation",
   "metadata": {},
   "outputs": [
    {
     "name": "stdout",
     "output_type": "stream",
     "text": [
      "<class 'dict'>\n"
     ]
    }
   ],
   "source": [
    "# 초기 모듈 import\n",
    "\n",
    "import os\n",
    "import pickle\n",
    "from PIL import Image\n",
    "\n",
    "dir_path = os.getenv('HOME')+'/aiffel/python_image_proc/data/cifar-100-python'\n",
    "train_file_path = os.path.join(dir_path, 'train')\n",
    "\n",
    "with open(train_file_path, 'rb') as f:\n",
    "    train = pickle.load(f, encoding='bytes')\n",
    "\n",
    "print(type(train))\n",
    "\n",
    "#print(train)   # 혹시 내용이 궁금하다면 주석을 풀고 실행해 보세요."
   ]
  },
  {
   "cell_type": "code",
   "execution_count": 17,
   "id": "level-arcade",
   "metadata": {},
   "outputs": [],
   "source": [
    "def get_histogram(image):\n",
    "    histogram = []\n",
    "\n",
    "    # Create histograms per channels, in 4 bins each.\n",
    "    for i in range(3):\n",
    "        channel_histogram = cv2.calcHist(images=[image],\n",
    "                                         channels=[i],\n",
    "                                         mask=None,\n",
    "                                         histSize=[4],  # 히스토그램 구간을 4개로 한다.\n",
    "                                         ranges=[0, 256])\n",
    "        histogram.append(channel_histogram)  \n",
    "\n",
    "    histogram = np.concatenate(histogram)\n",
    "    histogram = cv2.normalize(histogram, histogram)\n",
    "\n",
    "    return histogram"
   ]
  },
  {
   "cell_type": "code",
   "execution_count": 18,
   "id": "intimate-jacob",
   "metadata": {},
   "outputs": [
    {
     "data": {
      "text/plain": [
       "array([[0.3126804 ],\n",
       "       [0.4080744 ],\n",
       "       [0.14521089],\n",
       "       [0.21940625],\n",
       "       [0.18654831],\n",
       "       [0.23742512],\n",
       "       [0.30208108],\n",
       "       [0.35931748],\n",
       "       [0.06465594],\n",
       "       [0.35825753],\n",
       "       [0.36991683],\n",
       "       [0.29254165]], dtype=float32)"
      ]
     },
     "execution_count": 18,
     "metadata": {},
     "output_type": "execute_result"
    }
   ],
   "source": [
    "# get_histogram() 확인용 코드\n",
    "filename = train[b'filenames'][0].decode()\n",
    "file_path = os.path.join(images_dir_path, filename)\n",
    "image = cv2.imread(file_path)\n",
    "histogram = get_histogram(image)\n",
    "histogram"
   ]
  },
  {
   "cell_type": "code",
   "execution_count": 19,
   "id": "accepting-worthy",
   "metadata": {},
   "outputs": [],
   "source": [
    "# build_histogram_db() 정의\n",
    "\n",
    "def build_histogram_db():\n",
    "    histogram_db = {}\n",
    "\n",
    "    #디렉토리에 모아 둔 이미지 파일들을 전부 리스트업합니다. \n",
    "    path = images_dir_path\n",
    "    file_list = os.listdir(images_dir_path)\n",
    "\n",
    "    for file_name in tqdm(file_list):\n",
    "        file_path = os.path.join(images_dir_path, file_name)\n",
    "        image = cv2.imread(file_path)\n",
    "\n",
    "        histogram = get_histogram(image)\n",
    "\n",
    "        histogram_db[file_name] = histogram\n",
    "\n",
    "    return histogram_db"
   ]
  },
  {
   "cell_type": "code",
   "execution_count": 20,
   "id": "efficient-florist",
   "metadata": {},
   "outputs": [
    {
     "name": "stderr",
     "output_type": "stream",
     "text": [
      "100%|██████████| 49999/49999 [00:06<00:00, 7275.97it/s]\n"
     ]
    },
    {
     "data": {
      "text/plain": [
       "array([[0.        ],\n",
       "       [0.        ],\n",
       "       [0.29744893],\n",
       "       [0.5828624 ],\n",
       "       [0.        ],\n",
       "       [0.17107612],\n",
       "       [0.41608465],\n",
       "       [0.29315054],\n",
       "       [0.        ],\n",
       "       [0.34301192],\n",
       "       [0.37224102],\n",
       "       [0.16505837]], dtype=float32)"
      ]
     },
     "execution_count": 20,
     "metadata": {},
     "output_type": "execute_result"
    }
   ],
   "source": [
    "# build_histogram_db()을 실행, 검증\n",
    "\n",
    "histogram_db = build_histogram_db()\n",
    "histogram_db['adriatic_s_001807.png']"
   ]
  },
  {
   "cell_type": "code",
   "execution_count": 21,
   "id": "thick-bradford",
   "metadata": {},
   "outputs": [],
   "source": [
    "# target_histogram에 입력받은 이미지의 히스토그램을 저장하는 함수 만들기\n",
    "\n",
    "def get_target_histogram():\n",
    "    filename = input(\"이미지 파일명을 입력하세요: \")\n",
    "    if filename not in histogram_db:\n",
    "        print('유효하지 않은 이미지 파일명입니다.')\n",
    "        return None\n",
    "    return histogram_db[filename]"
   ]
  },
  {
   "cell_type": "code",
   "execution_count": 22,
   "id": "standard-american",
   "metadata": {},
   "outputs": [
    {
     "name": "stdout",
     "output_type": "stream",
     "text": [
      "이미지 파일명을 입력하세요: adriatic_s_001807.png\n"
     ]
    },
    {
     "data": {
      "text/plain": [
       "array([[0.        ],\n",
       "       [0.        ],\n",
       "       [0.29744893],\n",
       "       [0.5828624 ],\n",
       "       [0.        ],\n",
       "       [0.17107612],\n",
       "       [0.41608465],\n",
       "       [0.29315054],\n",
       "       [0.        ],\n",
       "       [0.34301192],\n",
       "       [0.37224102],\n",
       "       [0.16505837]], dtype=float32)"
      ]
     },
     "execution_count": 22,
     "metadata": {},
     "output_type": "execute_result"
    }
   ],
   "source": [
    "target_histogram = get_target_histogram()\n",
    "target_histogram"
   ]
  },
  {
   "cell_type": "code",
   "execution_count": 24,
   "id": "functioning-charity",
   "metadata": {},
   "outputs": [],
   "source": [
    "# search 함수를 만들기\n",
    "\n",
    "def search(histogram_db, target_histogram, top_k=5):\n",
    "    results = {}\n",
    "\n",
    "    # Calculate similarity distance by comparing histograms.\n",
    "    for file_name, histogram in tqdm(histogram_db.items()):\n",
    "        distance = cv2.compareHist(H1=target_histogram,\n",
    "                                   H2=histogram,\n",
    "                                   method=cv2.HISTCMP_CHISQR)\n",
    "\n",
    "        results[file_name] = distance\n",
    "\n",
    "    results = dict(sorted(results.items(), key=lambda item: item[1])[:top_k])\n",
    "\n",
    "    return results"
   ]
  },
  {
   "cell_type": "code",
   "execution_count": 25,
   "id": "active-incidence",
   "metadata": {},
   "outputs": [
    {
     "name": "stderr",
     "output_type": "stream",
     "text": [
      "100%|██████████| 49999/49999 [00:00<00:00, 409733.45it/s]\n"
     ]
    },
    {
     "data": {
      "text/plain": [
       "{'adriatic_s_001807.png': 0.0,\n",
       " 'baby_s_001654.png': 0.047506706444185816,\n",
       " 'fogbank_s_000423.png': 0.059270738493642845,\n",
       " 'tank_s_000442.png': 0.060966690827361725,\n",
       " 'dessert_plate_s_000124.png': 0.06113711905561663}"
      ]
     },
     "execution_count": 25,
     "metadata": {},
     "output_type": "execute_result"
    }
   ],
   "source": [
    "result = search(histogram_db, target_histogram)\n",
    "result"
   ]
  },
  {
   "cell_type": "code",
   "execution_count": 27,
   "id": "modern-witch",
   "metadata": {},
   "outputs": [],
   "source": [
    "def show_result(result):\n",
    "    f=plt.figure(figsize=(10,3))\n",
    "    for idx, filename in enumerate(result.keys()):    \n",
    "        img_path = os.path.join(images_dir_path, filename)\n",
    "        im = f.add_subplot(1,len(result),idx+1)\n",
    "        img = Image.open(img_path)\n",
    "        im.imshow(img)"
   ]
  },
  {
   "cell_type": "code",
   "execution_count": 28,
   "id": "atmospheric-sample",
   "metadata": {},
   "outputs": [
    {
     "data": {
      "image/png": "[encoded data removed]",
      "text/plain": [
       "<Figure size 720x216 with 5 Axes>"
      ]
     },
     "metadata": {
      "needs_background": "light"
     },
     "output_type": "display_data"
    }
   ],
   "source": [
    "show_result(result)"
   ]
  },
  {
   "cell_type": "code",
   "execution_count": 31,
   "id": "minus-sympathy",
   "metadata": {},
   "outputs": [
    {
     "name": "stdout",
     "output_type": "stream",
     "text": [
      "이미지 파일명을 입력하세요: fogbank_s_000423.png\n"
     ]
    },
    {
     "name": "stderr",
     "output_type": "stream",
     "text": [
      "100%|██████████| 49999/49999 [00:00<00:00, 411698.55it/s]\n"
     ]
    },
    {
     "data": {
      "image/png": "[encoded data removed]",
      "text/plain": [
       "<Figure size 720x216 with 5 Axes>"
      ]
     },
     "metadata": {
      "needs_background": "light"
     },
     "output_type": "display_data"
    }
   ],
   "source": [
    "target_histogram = get_target_histogram()\n",
    "result = search(histogram_db, target_histogram)\n",
    "show_result(result)"
   ]
  },
  {
   "cell_type": "code",
   "execution_count": null,
   "id": "hungry-clock",
   "metadata": {},
   "outputs": [],
   "source": []
  }
 ],
 "metadata": {
  "kernelspec": {
   "display_name": "Python 3",
   "language": "python",
   "name": "python3"
  },
  "language_info": {
   "codemirror_mode": {
    "name": "ipython",
    "version": 3
   },
   "file_extension": ".py",
   "mimetype": "text/x-python",
   "name": "python",
   "nbconvert_exporter": "python",
   "pygments_lexer": "ipython3",
   "version": "3.7.9"
  }
 },
 "nbformat": 4,
 "nbformat_minor": 5
}
