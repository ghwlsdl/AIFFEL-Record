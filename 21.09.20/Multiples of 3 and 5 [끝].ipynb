{
 "cells": [
  {
   "cell_type": "code",
   "execution_count": null,
   "id": "middle-legend",
   "metadata": {},
   "outputs": [],
   "source": [
    "10미만의 자연수에서 3과 5의 배수를 구하면 3,5,6,9이다. 이들의 총합은 23이다.\n",
    "\n",
    "1000미만의 자연수에서 3,5의 배수의 총합을 구하라."
   ]
  },
  {
   "cell_type": "code",
   "execution_count": 2,
   "id": "underlying-porcelain",
   "metadata": {},
   "outputs": [
    {
     "name": "stdout",
     "output_type": "stream",
     "text": [
      "233168\n"
     ]
    }
   ],
   "source": [
    "result = 0 # result 값을 초기화\n",
    "\n",
    "for n in range(1, 1000): #n의 범위 정의\n",
    "    if n % 3 == 0 or n % 5 ==0: # 3과 5의 배수를 찾는 것이기 때문에 3이나 5로 나누어 떨어지는 값을 찾기\n",
    "        result += n\n",
    "print(result)"
   ]
  },
  {
   "cell_type": "code",
   "execution_count": null,
   "id": "increasing-spoke",
   "metadata": {},
   "outputs": [],
   "source": []
  }
 ],
 "metadata": {
  "kernelspec": {
   "display_name": "Python 3",
   "language": "python",
   "name": "python3"
  },
  "language_info": {
   "codemirror_mode": {
    "name": "ipython",
    "version": 3
   },
   "file_extension": ".py",
   "mimetype": "text/x-python",
   "name": "python",
   "nbconvert_exporter": "python",
   "pygments_lexer": "ipython3",
   "version": "3.7.9"
  }
 },
 "nbformat": 4,
 "nbformat_minor": 5
}
