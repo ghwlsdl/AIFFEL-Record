{
 "cells": [
  {
   "cell_type": "markdown",
   "id": "collaborative-trade",
   "metadata": {},
   "source": [
    "# LMS EXPLORATION 01\n",
    "\n",
    "# 1-7. 미니 프로젝트 : 가위바위보 분류기를 만들자"
   ]
  },
  {
   "cell_type": "markdown",
   "id": "alien-operator",
   "metadata": {},
   "source": [
    "## 필요 라이브러리 import"
   ]
  },
  {
   "cell_type": "code",
   "execution_count": 1,
   "id": "twelve-stage",
   "metadata": {},
   "outputs": [
    {
     "name": "stdout",
     "output_type": "stream",
     "text": [
      "2.4.1\n"
     ]
    }
   ],
   "source": [
    "import tensorflow as tf\n",
    "from tensorflow import keras\n",
    "\n",
    "import numpy as np\n",
    "import matplotlib.pyplot as plt\n",
    "\n",
    "print(tf.__version__)"
   ]
  },
  {
   "cell_type": "code",
   "execution_count": 2,
   "id": "patent-cooper",
   "metadata": {},
   "outputs": [
    {
     "name": "stdout",
     "output_type": "stream",
     "text": [
      "PIL 라이브러리 import 완료\n"
     ]
    }
   ],
   "source": [
    "from PIL import Image\n",
    "import os,glob\n",
    "\n",
    "print(\"PIL 라이브러리 import 완료\")"
   ]
  },
  {
   "cell_type": "code",
   "execution_count": 3,
   "id": "hydraulic-edmonton",
   "metadata": {},
   "outputs": [],
   "source": [
    "import random"
   ]
  },
  {
   "cell_type": "markdown",
   "id": "consolidated-reading",
   "metadata": {},
   "source": [
    "## 학습 데이터 불러오기 + Resize 하기"
   ]
  },
  {
   "cell_type": "code",
   "execution_count": 4,
   "id": "sorted-celebrity",
   "metadata": {},
   "outputs": [
    {
     "name": "stdout",
     "output_type": "stream",
     "text": [
      "111 images to be resized\n",
      "111 images resized\n",
      "가위 이미지 resize 완료\n",
      "101 images to be resized\n",
      "101 images resized\n",
      "바위 이미지 resize 완료\n",
      "102 images to be resized\n",
      "102 images resized\n",
      "보 이미지 resize 완료\n"
     ]
    }
   ],
   "source": [
    "# train 이미지 사이즈 변경\n",
    "\n",
    "def resize_images(img_path):\n",
    "    images = glob.glob(img_path + \"/*.jpg\")\n",
    "    \n",
    "    print(len(images), \"images to be resized\")\n",
    "    \n",
    "    target_size=(28,28)\n",
    "    for img in images:\n",
    "        old_img=Image.open(img)\n",
    "        new_img=old_img.resize(target_size, Image.ANTIALIAS)\n",
    "        new_img.save(img,\"JPEG\")\n",
    "        \n",
    "    print(len(images), \"images resized\")\n",
    "    \n",
    "image_dir_path = os.getenv(\"HOME\") + \"/aiffel/rock_scissor_paper/scissor\"\n",
    "resize_images(image_dir_path)\n",
    "\n",
    "print(\"가위 이미지 resize 완료\")\n",
    "\n",
    "image_dir_path = os.getenv(\"HOME\") + \"/aiffel/rock_scissor_paper/rock\"\n",
    "resize_images(image_dir_path)\n",
    "\n",
    "print(\"바위 이미지 resize 완료\")\n",
    "\n",
    "image_dir_path = os.getenv(\"HOME\") + \"/aiffel/rock_scissor_paper/paper\"\n",
    "resize_images(image_dir_path)\n",
    "\n",
    "print(\"보 이미지 resize 완료\")"
   ]
  },
  {
   "cell_type": "code",
   "execution_count": null,
   "id": "academic-cookbook",
   "metadata": {},
   "outputs": [],
   "source": [
    "# Keras 에서 위에 리사이즈한 데이터를 가지고 학습 수 있도록\n",
    "\n",
    "# 이미지 정보를 행렬에 담아주고 그에 따른 함수도 만들어 줍니다.\n",
    "\n",
    "# 우선 행렬을 생성해 반복문으로 이미지 정보를 넣어주고 지도학습을 위해\n",
    "\n",
    "# 가위, 바위, 보를 각각 0, 1, 2로 라벨링 해줍니다.\n",
    "\n",
    "# 이후, 만든 함수를 실제로 실행하고 0과 1 사이의 값으로 정규화까지 해줍니다."
   ]
  },
  {
   "cell_type": "code",
   "execution_count": 5,
   "id": "peaceful-municipality",
   "metadata": {},
   "outputs": [
    {
     "name": "stdout",
     "output_type": "stream",
     "text": [
      "학습데이터(x_train)의 이미지 개수는 314 입니다.\n",
      "최소값: 0  최대값: 255\n",
      "최소값: 0.0  최대값: 1.0\n",
      "x_train shape: (314, 28, 28, 3)\n",
      "y_train shape: (314,)\n"
     ]
    }
   ],
   "source": [
    "# import numpy 라이브러리\n",
    "\n",
    "import numpy as np\n",
    "\n",
    "# 함수 정의 및 가위, 바위, 보 라벨링\n",
    "\n",
    "def load_data(img_path, number_of_data=314):  # 가위바위보 이미지 개수 총합에 주의하세요.\n",
    "    # 가위 : 0, 바위 : 1, 보 : 2\n",
    "    img_size=28\n",
    "    color=3\n",
    "    #이미지 데이터와 라벨(가위 : 0, 바위 : 1, 보 : 2) 데이터를 담을 행렬(matrix) 영역을 생성합니다.\n",
    "    imgs=np.zeros(number_of_data*img_size*img_size*color,dtype=np.int32).reshape(number_of_data,img_size,img_size,color)\n",
    "    labels=np.zeros(number_of_data,dtype=np.int32)\n",
    "\n",
    "    idx=0\n",
    "    for file in glob.iglob(img_path+'/scissor/*.jpg'):\n",
    "        img = np.array(Image.open(file),dtype=np.int32)\n",
    "        imgs[idx,:,:,:]=img    # 데이터 영역에 이미지 행렬을 복사\n",
    "        labels[idx]=0   # 가위 : 0\n",
    "        idx=idx+1\n",
    "\n",
    "    for file in glob.iglob(img_path+'/rock/*.jpg'):\n",
    "        img = np.array(Image.open(file),dtype=np.int32)\n",
    "        imgs[idx,:,:,:]=img    # 데이터 영역에 이미지 행렬을 복사\n",
    "        labels[idx]=1   # 바위 : 1\n",
    "        idx=idx+1  \n",
    "    \n",
    "    for file in glob.iglob(img_path+'/paper/*.jpg'):\n",
    "        img = np.array(Image.open(file),dtype=np.int32)\n",
    "        imgs[idx,:,:,:]=img    # 데이터 영역에 이미지 행렬을 복사\n",
    "        labels[idx]=2   # 보 : 2\n",
    "        idx=idx+1\n",
    "        \n",
    "    print(\"학습데이터(x_train)의 이미지 개수는\", idx,\"입니다.\")\n",
    "    return imgs, labels\n",
    "\n",
    "# 0과 1 사이의 값으로 정규화\n",
    "image_dir_path = os.getenv(\"HOME\") + \"/aiffel/rock_scissor_paper\"\n",
    "(x_train, y_train)=load_data(image_dir_path)\n",
    "print('최소값:',np.min(x_train), ' 최대값:',np.max(x_train))\n",
    "x_train_norm = x_train/255.0   # 입력은 0~1 사이의 값으로 정규화\n",
    "print('최소값:',np.min(x_train_norm), ' 최대값:',np.max(x_train_norm))\n",
    "\n",
    "#출력\n",
    "print(\"x_train shape: {}\".format(x_train.shape))\n",
    "print(\"y_train shape: {}\".format(y_train.shape))"
   ]
  },
  {
   "cell_type": "code",
   "execution_count": 6,
   "id": "gross-genesis",
   "metadata": {},
   "outputs": [
    {
     "name": "stdout",
     "output_type": "stream",
     "text": [
      "라벨:  0\n"
     ]
    },
    {
     "data": {
      "image/png": "[encoded data removed]",
      "text/plain": [
       "<Figure size 432x288 with 1 Axes>"
      ]
     },
     "metadata": {
      "needs_background": "light"
     },
     "output_type": "display_data"
    }
   ],
   "source": [
    "# 확인을 위한 이미지 출력\n",
    "\n",
    "import matplotlib.pyplot as plt\n",
    "plt.imshow(x_train[0])\n",
    "print('라벨: ', y_train[0])"
   ]
  },
  {
   "cell_type": "markdown",
   "id": "adjusted-lafayette",
   "metadata": {},
   "source": [
    "# 딥러닝 네트워크 설계, 학습 모델 훈련 진행"
   ]
  },
  {
   "cell_type": "code",
   "execution_count": 8,
   "id": "behind-choir",
   "metadata": {},
   "outputs": [
    {
     "name": "stdout",
     "output_type": "stream",
     "text": [
      "Model: \"sequential_1\"\n",
      "_________________________________________________________________\n",
      "Layer (type)                 Output Shape              Param #   \n",
      "=================================================================\n",
      "conv2d_2 (Conv2D)            (None, 26, 26, 16)        448       \n",
      "_________________________________________________________________\n",
      "max_pooling2d_2 (MaxPooling2 (None, 13, 13, 16)        0         \n",
      "_________________________________________________________________\n",
      "conv2d_3 (Conv2D)            (None, 11, 11, 32)        4640      \n",
      "_________________________________________________________________\n",
      "max_pooling2d_3 (MaxPooling2 (None, 5, 5, 32)          0         \n",
      "_________________________________________________________________\n",
      "flatten_1 (Flatten)          (None, 800)               0         \n",
      "_________________________________________________________________\n",
      "dense_2 (Dense)              (None, 64)                51264     \n",
      "_________________________________________________________________\n",
      "dense_3 (Dense)              (None, 10)                650       \n",
      "=================================================================\n",
      "Total params: 57,002\n",
      "Trainable params: 57,002\n",
      "Non-trainable params: 0\n",
      "_________________________________________________________________\n",
      "Epoch 1/30\n",
      "10/10 [==============================] - 0s 3ms/step - loss: 2.2100 - accuracy: 0.2096\n",
      "Epoch 2/30\n",
      "10/10 [==============================] - 0s 3ms/step - loss: 1.3932 - accuracy: 0.4337\n",
      "Epoch 3/30\n",
      "10/10 [==============================] - 0s 3ms/step - loss: 1.0122 - accuracy: 0.5352\n",
      "Epoch 4/30\n",
      "10/10 [==============================] - 0s 3ms/step - loss: 0.8932 - accuracy: 0.6973\n",
      "Epoch 5/30\n",
      "10/10 [==============================] - 0s 3ms/step - loss: 0.7757 - accuracy: 0.7131\n",
      "Epoch 6/30\n",
      "10/10 [==============================] - 0s 3ms/step - loss: 0.6107 - accuracy: 0.8462\n",
      "Epoch 7/30\n",
      "10/10 [==============================] - 0s 3ms/step - loss: 0.4645 - accuracy: 0.9181\n",
      "Epoch 8/30\n",
      "10/10 [==============================] - 0s 3ms/step - loss: 0.3479 - accuracy: 0.9111\n",
      "Epoch 9/30\n",
      "10/10 [==============================] - 0s 3ms/step - loss: 0.2644 - accuracy: 0.9656\n",
      "Epoch 10/30\n",
      "10/10 [==============================] - 0s 3ms/step - loss: 0.2137 - accuracy: 0.9571\n",
      "Epoch 11/30\n",
      "10/10 [==============================] - 0s 3ms/step - loss: 0.2128 - accuracy: 0.9256\n",
      "Epoch 12/30\n",
      "10/10 [==============================] - 0s 3ms/step - loss: 0.1343 - accuracy: 0.9753\n",
      "Epoch 13/30\n",
      "10/10 [==============================] - 0s 3ms/step - loss: 0.1375 - accuracy: 0.9792\n",
      "Epoch 14/30\n",
      "10/10 [==============================] - 0s 3ms/step - loss: 0.1369 - accuracy: 0.9690\n",
      "Epoch 15/30\n",
      "10/10 [==============================] - 0s 3ms/step - loss: 0.2225 - accuracy: 0.9274\n",
      "Epoch 16/30\n",
      "10/10 [==============================] - 0s 3ms/step - loss: 0.1196 - accuracy: 0.9751\n",
      "Epoch 17/30\n",
      "10/10 [==============================] - 0s 3ms/step - loss: 0.1092 - accuracy: 0.9740\n",
      "Epoch 18/30\n",
      "10/10 [==============================] - 0s 3ms/step - loss: 0.1062 - accuracy: 0.9800\n",
      "Epoch 19/30\n",
      "10/10 [==============================] - 0s 3ms/step - loss: 0.1152 - accuracy: 0.9659\n",
      "Epoch 20/30\n",
      "10/10 [==============================] - 0s 3ms/step - loss: 0.1038 - accuracy: 0.9662\n",
      "Epoch 21/30\n",
      "10/10 [==============================] - 0s 3ms/step - loss: 0.0980 - accuracy: 0.9710\n",
      "Epoch 22/30\n",
      "10/10 [==============================] - 0s 3ms/step - loss: 0.0928 - accuracy: 0.9719\n",
      "Epoch 23/30\n",
      "10/10 [==============================] - 0s 3ms/step - loss: 0.0864 - accuracy: 0.9772\n",
      "Epoch 24/30\n",
      "10/10 [==============================] - 0s 3ms/step - loss: 0.0821 - accuracy: 0.9790\n",
      "Epoch 25/30\n",
      "10/10 [==============================] - 0s 3ms/step - loss: 0.0518 - accuracy: 0.9911\n",
      "Epoch 26/30\n",
      "10/10 [==============================] - 0s 3ms/step - loss: 0.0811 - accuracy: 0.9781\n",
      "Epoch 27/30\n",
      "10/10 [==============================] - 0s 3ms/step - loss: 0.0997 - accuracy: 0.9685\n",
      "Epoch 28/30\n",
      "10/10 [==============================] - 0s 3ms/step - loss: 0.0491 - accuracy: 0.9901\n",
      "Epoch 29/30\n",
      "10/10 [==============================] - 0s 3ms/step - loss: 0.0615 - accuracy: 0.9838\n",
      "Epoch 30/30\n",
      "10/10 [==============================] - 0s 3ms/step - loss: 0.0382 - accuracy: 0.9893\n",
      "10/10 - 0s - loss: 0.0448 - accuracy: 0.9841\n",
      "train_loss: 0.044766832143068314 \n",
      "train_accuracy: 0.9840764403343201\n"
     ]
    }
   ],
   "source": [
    "# 바꿔 볼 수 있는 하이퍼파라미터들\n",
    "n_channel_1=16\n",
    "n_channel_2=32\n",
    "n_dense=64\n",
    "n_train_epoch=30\n",
    "\n",
    "model=keras.models.Sequential()\n",
    "model.add(keras.layers.Conv2D(n_channel_1, (3,3), activation='relu', input_shape=(28,28,3)))\n",
    "model.add(keras.layers.MaxPool2D(2,2))\n",
    "model.add(keras.layers.Conv2D(n_channel_2, (3,3), activation='relu'))\n",
    "model.add(keras.layers.MaxPooling2D((2,2)))\n",
    "model.add(keras.layers.Flatten())\n",
    "model.add(keras.layers.Dense(n_dense, activation='relu'))\n",
    "model.add(keras.layers.Dense(10, activation='softmax'))\n",
    "\n",
    "model.summary()\n",
    "model.compile(optimizer='adam',\n",
    "             loss='sparse_categorical_crossentropy',\n",
    "             metrics=['accuracy'])\n",
    "\n",
    "# 모델 훈련\n",
    "model.fit(x_train_norm, y_train, epochs=n_train_epoch)\n",
    "\n",
    "# 모델 테스트\n",
    "train_loss, train_accuracy = model.evaluate(x_train_norm, y_train, verbose=2)\n",
    "print(\"train_loss: {} \".format(train_loss))\n",
    "print(\"train_accuracy: {}\".format(train_accuracy))"
   ]
  },
  {
   "cell_type": "markdown",
   "id": "allied-newman",
   "metadata": {},
   "source": [
    "# 테스트 데이터 불러오기 + Resize 하기"
   ]
  },
  {
   "cell_type": "code",
   "execution_count": 9,
   "id": "following-beads",
   "metadata": {},
   "outputs": [
    {
     "name": "stdout",
     "output_type": "stream",
     "text": [
      "101  images to be resized.\n",
      "101  images resized.\n",
      "rock_test 이미지 resize 완료!\n",
      "100  images to be resized.\n",
      "100  images resized.\n",
      "scissor_test 이미지 resize 완료!\n",
      "100  images to be resized.\n",
      "100  images resized.\n",
      "paepr_test 이미지 resize 완료!\n"
     ]
    }
   ],
   "source": [
    "# train 이미지 사이즈 변경\n",
    "\n",
    "def resize_images(img_path):\n",
    "    images=glob.glob(img_path + \"/*.jpg\")  \n",
    "    \n",
    "    print(len(images), \" images to be resized.\")\n",
    "\n",
    "    # 파일마다 모두 28x28 사이즈로 바꾸어 저장합니다.\n",
    "    target_size=(28,28)\n",
    "    for img in images:\n",
    "        old_img=Image.open(img)\n",
    "        new_img=old_img.resize(target_size,Image.ANTIALIAS)\n",
    "        new_img.save(img, \"JPEG\")\n",
    "    \n",
    "    print(len(images), \" images resized.\")\n",
    "\n",
    "\n",
    "image_dir_path = os.getenv(\"HOME\") + \"/aiffel/rock_scissor_paper/test/rock\"\n",
    "resize_images(image_dir_path)\n",
    "\n",
    "print(\"rock_test 이미지 resize 완료!\")\n",
    "\n",
    "image_dir_path = os.getenv(\"HOME\") + \"/aiffel/rock_scissor_paper/test/scissor\"\n",
    "resize_images(image_dir_path)\n",
    "\n",
    "print(\"scissor_test 이미지 resize 완료!\")\n",
    "\n",
    "image_dir_path = os.getenv(\"HOME\") + \"/aiffel/rock_scissor_paper/test/paper\"\n",
    "resize_images(image_dir_path)\n",
    "\n",
    "print(\"paepr_test 이미지 resize 완료!\")"
   ]
  },
  {
   "cell_type": "markdown",
   "id": "technical-tension",
   "metadata": {},
   "source": [
    "# 테스트 데이터의 라벨링 및 정규화 훈련 진행"
   ]
  },
  {
   "cell_type": "code",
   "execution_count": 10,
   "id": "meaning-nightlife",
   "metadata": {},
   "outputs": [
    {
     "name": "stdout",
     "output_type": "stream",
     "text": [
      "테스트 데이터(x_test)의 이미지 개수는 301 입니다.\n",
      "최소값: 0  최대값: 255\n",
      "최소값: 0.0  최대값: 1.0\n",
      "x_test shape: (301, 28, 28, 3)\n",
      "y_test shape: (301,)\n"
     ]
    }
   ],
   "source": [
    "# 함수 정의 및 가위, 바위, 보 라벨링\n",
    "\n",
    "def load_data(img_path, number_of_data=301):  # 가위바위보 이미지 개수 총합에 주의하세요.\n",
    "    # 가위 : 0, 바위 : 1, 보 : 2\n",
    "    img_size=28\n",
    "    color=3\n",
    "    #이미지 데이터와 라벨(가위 : 0, 바위 : 1, 보 : 2) 데이터를 담을 행렬(matrix) 영역을 생성합니다.\n",
    "    imgs=np.zeros(number_of_data*img_size*img_size*color,dtype=np.int32).reshape(number_of_data,img_size,img_size,color)\n",
    "    labels=np.zeros(number_of_data,dtype=np.int32)\n",
    "\n",
    "    idx=0\n",
    "    for file in glob.iglob(img_path+'/scissor/*.jpg'):\n",
    "        img = np.array(Image.open(file),dtype=np.int32)\n",
    "        imgs[idx,:,:,:]=img    # 데이터 영역에 이미지 행렬을 복사\n",
    "        labels[idx]=0   # 가위 : 0\n",
    "        idx=idx+1\n",
    "\n",
    "    for file in glob.iglob(img_path+'/rock/*.jpg'):\n",
    "        img = np.array(Image.open(file),dtype=np.int32)\n",
    "        imgs[idx,:,:,:]=img    # 데이터 영역에 이미지 행렬을 복사\n",
    "        labels[idx]=1   # 바위 : 1\n",
    "        idx=idx+1  \n",
    "    \n",
    "    for file in glob.iglob(img_path+'/paper/*.jpg'):\n",
    "        img = np.array(Image.open(file),dtype=np.int32)\n",
    "        imgs[idx,:,:,:]=img    # 데이터 영역에 이미지 행렬을 복사\n",
    "        labels[idx]=2   # 보 : 2\n",
    "        idx=idx+1\n",
    "        \n",
    "    print(\"테스트 데이터(x_test)의 이미지 개수는\", idx,\"입니다.\")\n",
    "    return imgs, labels\n",
    "\n",
    "# 0과 1 사이의 값으로 정규화\n",
    "image_dir_path = os.getenv(\"HOME\") + \"/aiffel/rock_scissor_paper/test\"\n",
    "(x_test, y_test)=load_data(image_dir_path)\n",
    "print('최소값:',np.min(x_test), ' 최대값:',np.max(x_test))\n",
    "x_test_norm = x_test/255.0   # 입력은 0~1 사이의 값으로 정규화\n",
    "print('최소값:',np.min(x_test_norm), ' 최대값:',np.max(x_test_norm))\n",
    "\n",
    "# 출력\n",
    "print(\"x_test shape: {}\".format(x_test.shape))\n",
    "print(\"y_test shape: {}\".format(y_test.shape))"
   ]
  },
  {
   "cell_type": "markdown",
   "id": "discrete-pointer",
   "metadata": {},
   "source": [
    "# 딥러닝 네트워크 설계, 테스트 모델 훈련 진행"
   ]
  },
  {
   "cell_type": "code",
   "execution_count": 12,
   "id": "related-mouth",
   "metadata": {},
   "outputs": [
    {
     "name": "stdout",
     "output_type": "stream",
     "text": [
      "Model: \"sequential_3\"\n",
      "_________________________________________________________________\n",
      "Layer (type)                 Output Shape              Param #   \n",
      "=================================================================\n",
      "conv2d_6 (Conv2D)            (None, 26, 26, 16)        448       \n",
      "_________________________________________________________________\n",
      "max_pooling2d_6 (MaxPooling2 (None, 13, 13, 16)        0         \n",
      "_________________________________________________________________\n",
      "conv2d_7 (Conv2D)            (None, 11, 11, 32)        4640      \n",
      "_________________________________________________________________\n",
      "max_pooling2d_7 (MaxPooling2 (None, 5, 5, 32)          0         \n",
      "_________________________________________________________________\n",
      "flatten_3 (Flatten)          (None, 800)               0         \n",
      "_________________________________________________________________\n",
      "dense_6 (Dense)              (None, 64)                51264     \n",
      "_________________________________________________________________\n",
      "dense_7 (Dense)              (None, 10)                650       \n",
      "=================================================================\n",
      "Total params: 57,002\n",
      "Trainable params: 57,002\n",
      "Non-trainable params: 0\n",
      "_________________________________________________________________\n",
      "Epoch 1/30\n",
      "10/10 [==============================] - 0s 3ms/step - loss: 2.0541 - accuracy: 0.3554\n",
      "Epoch 2/30\n",
      "10/10 [==============================] - 0s 3ms/step - loss: 1.1286 - accuracy: 0.3807\n",
      "Epoch 3/30\n",
      "10/10 [==============================] - 0s 3ms/step - loss: 1.0431 - accuracy: 0.5059\n",
      "Epoch 4/30\n",
      "10/10 [==============================] - 0s 3ms/step - loss: 0.9155 - accuracy: 0.5640\n",
      "Epoch 5/30\n",
      "10/10 [==============================] - 0s 3ms/step - loss: 0.7971 - accuracy: 0.8003\n",
      "Epoch 6/30\n",
      "10/10 [==============================] - 0s 3ms/step - loss: 0.7117 - accuracy: 0.7331\n",
      "Epoch 7/30\n",
      "10/10 [==============================] - 0s 3ms/step - loss: 0.5699 - accuracy: 0.8178\n",
      "Epoch 8/30\n",
      "10/10 [==============================] - 0s 3ms/step - loss: 0.5209 - accuracy: 0.7709\n",
      "Epoch 9/30\n",
      "10/10 [==============================] - 0s 3ms/step - loss: 0.4421 - accuracy: 0.7912\n",
      "Epoch 10/30\n",
      "10/10 [==============================] - 0s 3ms/step - loss: 0.5153 - accuracy: 0.7240\n",
      "Epoch 11/30\n",
      "10/10 [==============================] - 0s 3ms/step - loss: 0.3981 - accuracy: 0.8015\n",
      "Epoch 12/30\n",
      "10/10 [==============================] - 0s 3ms/step - loss: 0.3582 - accuracy: 0.8715\n",
      "Epoch 13/30\n",
      "10/10 [==============================] - 0s 3ms/step - loss: 0.3335 - accuracy: 0.8159\n",
      "Epoch 14/30\n",
      "10/10 [==============================] - 0s 3ms/step - loss: 0.3032 - accuracy: 0.8414\n",
      "Epoch 15/30\n",
      "10/10 [==============================] - 0s 3ms/step - loss: 0.2749 - accuracy: 0.8857\n",
      "Epoch 16/30\n",
      "10/10 [==============================] - 0s 3ms/step - loss: 0.2642 - accuracy: 0.9015\n",
      "Epoch 17/30\n",
      "10/10 [==============================] - 0s 3ms/step - loss: 0.2626 - accuracy: 0.8811\n",
      "Epoch 18/30\n",
      "10/10 [==============================] - 0s 3ms/step - loss: 0.2725 - accuracy: 0.8974\n",
      "Epoch 19/30\n",
      "10/10 [==============================] - 0s 3ms/step - loss: 0.2583 - accuracy: 0.8807\n",
      "Epoch 20/30\n",
      "10/10 [==============================] - 0s 3ms/step - loss: 0.2385 - accuracy: 0.8835\n",
      "Epoch 21/30\n",
      "10/10 [==============================] - 0s 3ms/step - loss: 0.2448 - accuracy: 0.8986\n",
      "Epoch 22/30\n",
      "10/10 [==============================] - 0s 3ms/step - loss: 0.2064 - accuracy: 0.9013\n",
      "Epoch 23/30\n",
      "10/10 [==============================] - 0s 3ms/step - loss: 0.2202 - accuracy: 0.9061\n",
      "Epoch 24/30\n",
      "10/10 [==============================] - 0s 3ms/step - loss: 0.1631 - accuracy: 0.9458\n",
      "Epoch 25/30\n",
      "10/10 [==============================] - 0s 3ms/step - loss: 0.2107 - accuracy: 0.8888\n",
      "Epoch 26/30\n",
      "10/10 [==============================] - 0s 3ms/step - loss: 0.1929 - accuracy: 0.9176\n",
      "Epoch 27/30\n",
      "10/10 [==============================] - 0s 3ms/step - loss: 0.2355 - accuracy: 0.8800\n",
      "Epoch 28/30\n",
      "10/10 [==============================] - 0s 3ms/step - loss: 0.2405 - accuracy: 0.8649\n",
      "Epoch 29/30\n",
      "10/10 [==============================] - 0s 3ms/step - loss: 0.1860 - accuracy: 0.9282\n",
      "Epoch 30/30\n",
      "10/10 [==============================] - 0s 3ms/step - loss: 0.1603 - accuracy: 0.9324\n",
      "10/10 - 0s - loss: 0.1528 - accuracy: 0.9402\n",
      "test_loss: 0.15277205407619476 \n",
      "test_accuracy: 0.9401993155479431\n"
     ]
    }
   ],
   "source": [
    "n_channel_1=16\n",
    "n_channel_2=32\n",
    "n_dense=64\n",
    "n_test_epoch=30\n",
    "\n",
    "model=keras.models.Sequential()\n",
    "model.add(keras.layers.Conv2D(n_channel_1, (3,3), activation='relu', input_shape=(28,28,3)))\n",
    "model.add(keras.layers.MaxPool2D(2,2))\n",
    "model.add(keras.layers.Conv2D(n_channel_2, (3,3), activation='relu'))\n",
    "model.add(keras.layers.MaxPooling2D((2,2)))\n",
    "model.add(keras.layers.Flatten())\n",
    "model.add(keras.layers.Dense(n_dense, activation='relu'))\n",
    "model.add(keras.layers.Dense(10, activation='softmax'))\n",
    "\n",
    "model.summary()\n",
    "model.compile(optimizer='adam',\n",
    "                 loss='sparse_categorical_crossentropy',\n",
    "                 metrics=['accuracy'])\n",
    "\n",
    "# 테스트 모델 훈련\n",
    "model.fit(x_test_norm, y_test, epochs=n_train_epoch)\n",
    "\n",
    "# 모델 테스트\n",
    "test_loss, test_accuracy = model.evaluate(x_test_norm, y_test, verbose=2)\n",
    "print(\"test_loss: {} \".format(test_loss))\n",
    "print(\"test_accuracy: {}\".format(test_accuracy))"
   ]
  },
  {
   "cell_type": "markdown",
   "id": "soviet-elimination",
   "metadata": {},
   "source": [
    "# 테스트 모델 predict 결과"
   ]
  },
  {
   "cell_type": "code",
   "execution_count": 13,
   "id": "breeding-intranet",
   "metadata": {},
   "outputs": [
    {
     "name": "stdout",
     "output_type": "stream",
     "text": [
      "model.predict() 결과 :  [1. 0. 0. 0. 0. 0. 0. 0. 0. 0.]\n",
      "model이 추론한 가장 가능성이 높은 결과 :  0\n",
      "실제 데이터의 라벨 :  0\n"
     ]
    },
    {
     "data": {
      "image/png": "[encoded data removed]",
      "text/plain": [
       "<Figure size 432x288 with 1 Axes>"
      ]
     },
     "metadata": {
      "needs_background": "light"
     },
     "output_type": "display_data"
    }
   ],
   "source": [
    "predicted_result = model.predict(x_test)  # model이 추론한 확률값. \n",
    "predicted_labels = np.argmax(predicted_result, axis=1)\n",
    "\n",
    "idx=0  #1번째 x_test를 살펴보자. \n",
    "print('model.predict() 결과 : ', predicted_result[idx])\n",
    "print('model이 추론한 가장 가능성이 높은 결과 : ', predicted_labels[idx])\n",
    "print('실제 데이터의 라벨 : ', y_test[idx])\n",
    "plt.imshow(x_test[idx],cmap=plt.cm.binary)\n",
    "plt.show()"
   ]
  },
  {
   "cell_type": "code",
   "execution_count": 14,
   "id": "recovered-mining",
   "metadata": {},
   "outputs": [
    {
     "name": "stdout",
     "output_type": "stream",
     "text": [
      "잘 못 분류한 테스트 데이터 수 : 18\n",
      "예측확률분포: [4.5711843e-36 0.0000000e+00 1.0000000e+00 0.0000000e+00 0.0000000e+00\n",
      " 0.0000000e+00 0.0000000e+00 0.0000000e+00 0.0000000e+00 0.0000000e+00]\n",
      "라벨: 0, 예측결과: 2\n"
     ]
    },
    {
     "data": {
      "image/png": "[encoded data removed]",
      "text/plain": [
       "<Figure size 432x288 with 1 Axes>"
      ]
     },
     "metadata": {
      "needs_background": "light"
     },
     "output_type": "display_data"
    },
    {
     "name": "stdout",
     "output_type": "stream",
     "text": [
      "예측확률분포: [1.00000e+00 0.00000e+00 2.11238e-13 0.00000e+00 0.00000e+00 0.00000e+00\n",
      " 0.00000e+00 0.00000e+00 0.00000e+00 0.00000e+00]\n",
      "라벨: 2, 예측결과: 0\n"
     ]
    },
    {
     "data": {
      "image/png": "[encoded data removed]",
      "text/plain": [
       "<Figure size 432x288 with 1 Axes>"
      ]
     },
     "metadata": {
      "needs_background": "light"
     },
     "output_type": "display_data"
    },
    {
     "name": "stdout",
     "output_type": "stream",
     "text": [
      "예측확률분포: [1. 0. 0. 0. 0. 0. 0. 0. 0. 0.]\n",
      "라벨: 2, 예측결과: 0\n"
     ]
    },
    {
     "data": {
      "image/png": "[encoded data removed]",
      "text/plain": [
       "<Figure size 432x288 with 1 Axes>"
      ]
     },
     "metadata": {
      "needs_background": "light"
     },
     "output_type": "display_data"
    },
    {
     "name": "stdout",
     "output_type": "stream",
     "text": [
      "예측확률분포: [1. 0. 0. 0. 0. 0. 0. 0. 0. 0.]\n",
      "라벨: 2, 예측결과: 0\n"
     ]
    },
    {
     "data": {
      "image/png": "[encoded data removed]",
      "text/plain": [
       "<Figure size 432x288 with 1 Axes>"
      ]
     },
     "metadata": {
      "needs_background": "light"
     },
     "output_type": "display_data"
    },
    {
     "name": "stdout",
     "output_type": "stream",
     "text": [
      "예측확률분포: [1. 0. 0. 0. 0. 0. 0. 0. 0. 0.]\n",
      "라벨: 2, 예측결과: 0\n"
     ]
    },
    {
     "data": {
      "image/png": "[encoded data removed]",
      "text/plain": [
       "<Figure size 432x288 with 1 Axes>"
      ]
     },
     "metadata": {
      "needs_background": "light"
     },
     "output_type": "display_data"
    }
   ],
   "source": [
    "wrong_predict_list=[]\n",
    "for i, _ in enumerate(predicted_labels):\n",
    "    # i번째 test_labels과 y_test이 다른 경우만 모아 봅시다. \n",
    "    if predicted_labels[i] != y_test[i]:\n",
    "        wrong_predict_list.append(i)\n",
    "\n",
    "print(\"잘 못 분류한 테스트 데이터 수 :\", len(wrong_predict_list))\n",
    "# wrong_predict_list 에서 랜덤하게 5개만 뽑아봅시다.\n",
    "samples = random.choices(population=wrong_predict_list, k=5)\n",
    "\n",
    "for n in samples:\n",
    "    print(\"예측확률분포: \" + str(predicted_result[n]))\n",
    "    print(\"라벨: \" + str(y_test[n]) + \", 예측결과: \" + str(predicted_labels[n]))\n",
    "    plt.imshow(x_test[n], cmap=plt.cm.binary)\n",
    "    plt.show()"
   ]
  },
  {
   "cell_type": "code",
   "execution_count": null,
   "id": "lined-pottery",
   "metadata": {},
   "outputs": [],
   "source": []
  }
 ],
 "metadata": {
  "kernelspec": {
   "display_name": "Python 3",
   "language": "python",
   "name": "python3"
  },
  "language_info": {
   "codemirror_mode": {
    "name": "ipython",
    "version": 3
   },
   "file_extension": ".py",
   "mimetype": "text/x-python",
   "name": "python",
   "nbconvert_exporter": "python",
   "pygments_lexer": "ipython3",
   "version": "3.7.9"
  }
 },
 "nbformat": 4,
 "nbformat_minor": 5
}
