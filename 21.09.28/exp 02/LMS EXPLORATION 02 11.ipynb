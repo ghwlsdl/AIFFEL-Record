{
 "cells": [
  {
   "cell_type": "code",
   "execution_count": null,
   "id": "closed-involvement",
   "metadata": {},
   "outputs": [],
   "source": [
    "# 2-11. 프로젝트 (1) load_digits : 손글씨를 분류해 봅시다"
   ]
  },
  {
   "cell_type": "code",
   "execution_count": 1,
   "id": "reported-treaty",
   "metadata": {},
   "outputs": [],
   "source": [
    "# (1) 필요한 모듈 import 하기\n",
    "\n",
    "from sklearn.datasets import load_digits\n",
    "from sklearn.model_selection import train_test_split\n",
    "from sklearn.metrics import classification_report"
   ]
  },
  {
   "cell_type": "code",
   "execution_count": 5,
   "id": "military-split",
   "metadata": {},
   "outputs": [
    {
     "data": {
      "text/plain": [
       "(1797, 64)"
      ]
     },
     "execution_count": 5,
     "metadata": {},
     "output_type": "execute_result"
    }
   ],
   "source": [
    "# (2) 데이터 준비\n",
    "\n",
    "digits = load_digits()\n",
    "\n",
    "# data 확인\n",
    "\n",
    "digits_data = digits.data\n",
    "digits_data.shape"
   ]
  },
  {
   "cell_type": "code",
   "execution_count": 7,
   "id": "awful-explorer",
   "metadata": {},
   "outputs": [
    {
     "name": "stdout",
     "output_type": "stream",
     "text": [
      "(1797,)\n",
      "[0 1 2 3 4 5 6 7 8 9]\n",
      ".. _digits_dataset:\n",
      "\n",
      "Optical recognition of handwritten digits dataset\n",
      "--------------------------------------------------\n",
      "\n",
      "**Data Set Characteristics:**\n",
      "\n",
      "    :Number of Instances: 5620\n",
      "    :Number of Attributes: 64\n",
      "    :Attribute Information: 8x8 image of integer pixels in the range 0..16.\n",
      "    :Missing Attribute Values: None\n",
      "    :Creator: E. Alpaydin (alpaydin '@' boun.edu.tr)\n",
      "    :Date: July; 1998\n",
      "\n",
      "This is a copy of the test set of the UCI ML hand-written digits datasets\n",
      "https://archive.ics.uci.edu/ml/datasets/Optical+Recognition+of+Handwritten+Digits\n",
      "\n",
      "The data set contains images of hand-written digits: 10 classes where\n",
      "each class refers to a digit.\n",
      "\n",
      "Preprocessing programs made available by NIST were used to extract\n",
      "normalized bitmaps of handwritten digits from a preprinted form. From a\n",
      "total of 43 people, 30 contributed to the training set and different 13\n",
      "to the test set. 32x32 bitmaps are divided into nonoverlapping blocks of\n",
      "4x4 and the number of on pixels are counted in each block. This generates\n",
      "an input matrix of 8x8 where each element is an integer in the range\n",
      "0..16. This reduces dimensionality and gives invariance to small\n",
      "distortions.\n",
      "\n",
      "For info on NIST preprocessing routines, see M. D. Garris, J. L. Blue, G.\n",
      "T. Candela, D. L. Dimmick, J. Geist, P. J. Grother, S. A. Janet, and C.\n",
      "L. Wilson, NIST Form-Based Handprint Recognition System, NISTIR 5469,\n",
      "1994.\n",
      "\n",
      ".. topic:: References\n",
      "\n",
      "  - C. Kaynak (1995) Methods of Combining Multiple Classifiers and Their\n",
      "    Applications to Handwritten Digit Recognition, MSc Thesis, Institute of\n",
      "    Graduate Studies in Science and Engineering, Bogazici University.\n",
      "  - E. Alpaydin, C. Kaynak (1998) Cascading Classifiers, Kybernetika.\n",
      "  - Ken Tang and Ponnuthurai N. Suganthan and Xi Yao and A. Kai Qin.\n",
      "    Linear dimensionalityreduction using relevance weighted LDA. School of\n",
      "    Electrical and Electronic Engineering Nanyang Technological University.\n",
      "    2005.\n",
      "  - Claudio Gentile. A New Approximate Maximal Margin Classification\n",
      "    Algorithm. NIPS. 2000.\n"
     ]
    }
   ],
   "source": [
    "# (3) 데이터 이해하기\n",
    "\n",
    "# Feature Data 지정하기\n",
    "digits.feature_names\n",
    "\n",
    "# Label Data 지정하기\n",
    "digits_label = digits.target\n",
    "print(digits_label.shape)\n",
    "\n",
    "# Target Names 출력해 보기\n",
    "print(digits.target_names)\n",
    "\n",
    "# 데이터 Describe 해 보기\n",
    "print(digits.DESCR)"
   ]
  },
  {
   "cell_type": "code",
   "execution_count": 11,
   "id": "organizational-bench",
   "metadata": {},
   "outputs": [
    {
     "name": "stdout",
     "output_type": "stream",
     "text": [
      "X_train 개수:  1437 , X_test 개수:  360\n"
     ]
    }
   ],
   "source": [
    "# (4) train, test 데이터 분리\n",
    "from sklearn.model_selection import train_test_split\n",
    "\n",
    "X_train, X_test, y_train, y_test = train_test_split(digits_data,\n",
    "                                                    digits_label,\n",
    "                                                    test_size=0.2,\n",
    "                                                    random_state=12)\n",
    "\n",
    "print('X_train 개수: ', len(X_train), ', X_test 개수: ', len(X_test))"
   ]
  },
  {
   "cell_type": "code",
   "execution_count": 17,
   "id": "hungry-minister",
   "metadata": {},
   "outputs": [
    {
     "name": "stdout",
     "output_type": "stream",
     "text": [
      "              precision    recall  f1-score   support\n",
      "\n",
      "           0       0.97      0.97      0.97        37\n",
      "           1       0.87      0.81      0.84        32\n",
      "           2       0.74      0.89      0.81        38\n",
      "           3       0.90      0.88      0.89        43\n",
      "           4       0.94      0.85      0.89        39\n",
      "           5       0.90      0.76      0.83        34\n",
      "           6       1.00      0.97      0.98        29\n",
      "           7       0.84      0.76      0.80        42\n",
      "           8       0.65      0.69      0.67        32\n",
      "           9       0.68      0.82      0.75        34\n",
      "\n",
      "    accuracy                           0.84       360\n",
      "   macro avg       0.85      0.84      0.84       360\n",
      "weighted avg       0.85      0.84      0.84       360\n",
      "\n"
     ]
    }
   ],
   "source": [
    "# (5) 다양한 모델로 학습시켜보기\n",
    "\n",
    "# Decision Tree 사용해 보기\n",
    "\n",
    "# 모듈 import\n",
    "from sklearn.tree import DecisionTreeClassifier\n",
    "\n",
    "# 데이터 준비\n",
    "digits = load_digits()\n",
    "digits_data = digits.data\n",
    "digits_label = digits.target\n",
    "\n",
    "# train, test 데이터 분리\n",
    "X_train, X_test, y_train, y_test = train_test_split(digits_data, \n",
    "                                                    digits_label, \n",
    "                                                    test_size=0.2, \n",
    "                                                    random_state=12)\n",
    "\n",
    "# Decision Tree 모델 학습 및 예측\n",
    "decision_tree = DecisionTreeClassifier(random_state=32)\n",
    "decision_tree.fit(X_train, y_train)\n",
    "y_pred = decision_tree.predict(X_test)\n",
    "\n",
    "# 학습 결과 체크\n",
    "print(classification_report(y_test, y_pred))"
   ]
  },
  {
   "cell_type": "code",
   "execution_count": 19,
   "id": "portable-majority",
   "metadata": {},
   "outputs": [
    {
     "name": "stdout",
     "output_type": "stream",
     "text": [
      "              precision    recall  f1-score   support\n",
      "\n",
      "           0       0.97      1.00      0.99        37\n",
      "           1       0.97      1.00      0.98        32\n",
      "           2       1.00      1.00      1.00        38\n",
      "           3       0.98      1.00      0.99        43\n",
      "           4       1.00      0.92      0.96        39\n",
      "           5       1.00      0.91      0.95        34\n",
      "           6       1.00      0.97      0.98        29\n",
      "           7       0.98      0.98      0.98        42\n",
      "           8       0.94      1.00      0.97        32\n",
      "           9       0.89      0.94      0.91        34\n",
      "\n",
      "    accuracy                           0.97       360\n",
      "   macro avg       0.97      0.97      0.97       360\n",
      "weighted avg       0.97      0.97      0.97       360\n",
      "\n"
     ]
    }
   ],
   "source": [
    "# Random Forest 사용해 보기\n",
    "\n",
    "# 모듈 import\n",
    "from sklearn.ensemble import RandomForestClassifier\n",
    "\n",
    "# 데이터 준비\n",
    "digits = load_digits()\n",
    "digits_data = digits.data\n",
    "digits_label = digits.target\n",
    "\n",
    "# train, test 데이터 분리\n",
    "X_train, X_test, y_train, y_test = train_test_split(digits_data, \n",
    "                                                    digits_label, \n",
    "                                                    test_size=0.2, \n",
    "                                                    random_state=12)\n",
    "\n",
    "# Random Forest 모델 학습 및 예측\n",
    "random_forest = RandomForestClassifier(random_state=32)\n",
    "random_forest.fit(X_train, y_train)\n",
    "y_pred = random_forest.predict(X_test)\n",
    "\n",
    "# 학습 결과 체크\n",
    "print(classification_report(y_test, y_pred))"
   ]
  },
  {
   "cell_type": "code",
   "execution_count": 20,
   "id": "bearing-smart",
   "metadata": {},
   "outputs": [
    {
     "name": "stdout",
     "output_type": "stream",
     "text": [
      "              precision    recall  f1-score   support\n",
      "\n",
      "           0       1.00      1.00      1.00        37\n",
      "           1       1.00      1.00      1.00        32\n",
      "           2       1.00      1.00      1.00        38\n",
      "           3       1.00      1.00      1.00        43\n",
      "           4       1.00      0.97      0.99        39\n",
      "           5       1.00      0.94      0.97        34\n",
      "           6       1.00      1.00      1.00        29\n",
      "           7       1.00      1.00      1.00        42\n",
      "           8       1.00      1.00      1.00        32\n",
      "           9       0.92      1.00      0.96        34\n",
      "\n",
      "    accuracy                           0.99       360\n",
      "   macro avg       0.99      0.99      0.99       360\n",
      "weighted avg       0.99      0.99      0.99       360\n",
      "\n"
     ]
    }
   ],
   "source": [
    "# SVM 사용해 보기\n",
    "\n",
    "# 모듈 import\n",
    "from sklearn import svm\n",
    "svm_model = svm.SVC()\n",
    "\n",
    "# 데이터 준비\n",
    "digits = load_digits()\n",
    "digits_data = digits.data\n",
    "digits_label = digits.target\n",
    "\n",
    "# SVM 모델 학습 및 예측\n",
    "svm_model.fit(X_train, y_train)\n",
    "y_pred = svm_model.predict(X_test)\n",
    "\n",
    "# 학습 결과 체크\n",
    "print(classification_report(y_test, y_pred))"
   ]
  },
  {
   "cell_type": "code",
   "execution_count": 21,
   "id": "quick-repeat",
   "metadata": {},
   "outputs": [
    {
     "name": "stdout",
     "output_type": "stream",
     "text": [
      "              precision    recall  f1-score   support\n",
      "\n",
      "           0       1.00      0.95      0.97        37\n",
      "           1       0.97      0.91      0.94        32\n",
      "           2       0.97      1.00      0.99        38\n",
      "           3       0.96      1.00      0.98        43\n",
      "           4       1.00      0.92      0.96        39\n",
      "           5       0.87      0.97      0.92        34\n",
      "           6       0.97      0.97      0.97        29\n",
      "           7       0.98      0.95      0.96        42\n",
      "           8       0.97      0.94      0.95        32\n",
      "           9       0.92      0.97      0.94        34\n",
      "\n",
      "    accuracy                           0.96       360\n",
      "   macro avg       0.96      0.96      0.96       360\n",
      "weighted avg       0.96      0.96      0.96       360\n",
      "\n"
     ]
    }
   ],
   "source": [
    "# SGD Classifier 사용해 보기\n",
    "\n",
    "# 모듈 import\n",
    "from sklearn.linear_model import SGDClassifier\n",
    "sgd_model = SGDClassifier()\n",
    "\n",
    "# 데이터 준비\n",
    "digits = load_digits()\n",
    "digits_data = digits.data\n",
    "digits_label = digits.target\n",
    "\n",
    "# SGD Classifier 모델 학습 및 예측\n",
    "sgd_model.fit(X_train, y_train)\n",
    "y_pred = sgd_model.predict(X_test)\n",
    "\n",
    "# 학습 결과 체크\n",
    "print(classification_report(y_test, y_pred))"
   ]
  },
  {
   "cell_type": "code",
   "execution_count": 22,
   "id": "classified-blogger",
   "metadata": {},
   "outputs": [
    {
     "name": "stdout",
     "output_type": "stream",
     "text": [
      "              precision    recall  f1-score   support\n",
      "\n",
      "           0       1.00      0.97      0.99        37\n",
      "           1       0.94      1.00      0.97        32\n",
      "           2       0.97      0.97      0.97        38\n",
      "           3       1.00      1.00      1.00        43\n",
      "           4       1.00      0.95      0.97        39\n",
      "           5       0.94      0.91      0.93        34\n",
      "           6       1.00      0.97      0.98        29\n",
      "           7       0.98      0.98      0.98        42\n",
      "           8       1.00      0.94      0.97        32\n",
      "           9       0.87      1.00      0.93        34\n",
      "\n",
      "    accuracy                           0.97       360\n",
      "   macro avg       0.97      0.97      0.97       360\n",
      "weighted avg       0.97      0.97      0.97       360\n",
      "\n"
     ]
    },
    {
     "name": "stderr",
     "output_type": "stream",
     "text": [
      "/opt/conda/lib/python3.7/site-packages/sklearn/linear_model/_logistic.py:762: ConvergenceWarning: lbfgs failed to converge (status=1):\n",
      "STOP: TOTAL NO. of ITERATIONS REACHED LIMIT.\n",
      "\n",
      "Increase the number of iterations (max_iter) or scale the data as shown in:\n",
      "    https://scikit-learn.org/stable/modules/preprocessing.html\n",
      "Please also refer to the documentation for alternative solver options:\n",
      "    https://scikit-learn.org/stable/modules/linear_model.html#logistic-regression\n",
      "  extra_warning_msg=_LOGISTIC_SOLVER_CONVERGENCE_MSG)\n"
     ]
    }
   ],
   "source": [
    "# Logistic Regression 사용해 보기\n",
    "\n",
    "# 모듈 import\n",
    "from sklearn.linear_model import LogisticRegression\n",
    "logistic_model = LogisticRegression()\n",
    "\n",
    "# 데이터 준비\n",
    "digits = load_digits()\n",
    "digits_data = digits.data\n",
    "digits_label = digits.target\n",
    "\n",
    "# Logistic Regression 모델 학습 및 예측\n",
    "logistic_model.fit(X_train, y_train)\n",
    "y_pred = logistic_model.predict(X_test)\n",
    "\n",
    "# 학습 결과 체크\n",
    "print(classification_report(y_test, y_pred))"
   ]
  },
  {
   "cell_type": "code",
   "execution_count": null,
   "id": "rural-talent",
   "metadata": {},
   "outputs": [],
   "source": [
    "# (6) 모델을 평가해 보기\n",
    "\n",
    "# 위의 총 5가지의 다양한 모델로 학습 시키고 그 결과를 체크한 결과\n",
    "\n",
    "# SVM 모델로 하였을 때, accuracy가 0.99로 가장 높아서\n",
    "\n",
    "# 평가지표로 선택할 수 있을 거 같습니다."
   ]
  }
 ],
 "metadata": {
  "kernelspec": {
   "display_name": "Python 3",
   "language": "python",
   "name": "python3"
  },
  "language_info": {
   "codemirror_mode": {
    "name": "ipython",
    "version": 3
   },
   "file_extension": ".py",
   "mimetype": "text/x-python",
   "name": "python",
   "nbconvert_exporter": "python",
   "pygments_lexer": "ipython3",
   "version": "3.7.9"
  }
 },
 "nbformat": 4,
 "nbformat_minor": 5
}
